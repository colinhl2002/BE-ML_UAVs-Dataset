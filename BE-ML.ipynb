{
 "cells": [
  {
   "cell_type": "markdown",
   "id": "9632e0c3",
   "metadata": {},
   "source": [
    "<div style=\"font-size:22pt; line-height:25pt; font-weight:bold; text-align:center;\">BE - ML</div>"
   ]
  },
  {
   "cell_type": "markdown",
   "id": "82150020",
   "metadata": {},
   "source": [
    "# Introduction\n",
    "\n",
    "Le BE-ML consiste en l'analyse du dataset ..."
   ]
  },
  {
   "cell_type": "markdown",
   "id": "a9879ec6",
   "metadata": {},
   "source": [
    "# partie Colin"
   ]
  },
  {
   "cell_type": "code",
   "execution_count": null,
   "id": "30f5da1c",
   "metadata": {
    "vscode": {
     "languageId": "plaintext"
    }
   },
   "outputs": [],
   "source": []
  },
  {
   "cell_type": "markdown",
   "id": "87797ef3",
   "metadata": {},
   "source": [
    "# partie Mohamed"
   ]
  },
  {
   "cell_type": "code",
   "execution_count": null,
   "id": "b7f1871f",
   "metadata": {
    "vscode": {
     "languageId": "plaintext"
    }
   },
   "outputs": [],
   "source": []
  }
 ],
 "metadata": {
  "language_info": {
   "name": "python"
  }
 },
 "nbformat": 4,
 "nbformat_minor": 5
}
