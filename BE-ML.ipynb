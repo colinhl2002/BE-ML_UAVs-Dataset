{
 "cells": [
  {
   "cell_type": "markdown",
   "id": "9632e0c3",
   "metadata": {},
   "source": [
    "<div style=\"font-size:22pt; line-height:25pt; font-weight:bold; text-align:center;\">BE - ML</div>"
   ]
  },
  {
   "cell_type": "markdown",
   "id": "82150020",
   "metadata": {},
   "source": [
    "# Introduction\n",
    "\n",
    "Le BE-ML consiste en l'analyse du dataset ..."
   ]
  },
  {
   "cell_type": "markdown",
   "id": "a9879ec6",
   "metadata": {},
   "source": [
    "# partie Colin"
   ]
  },
  {
   "cell_type": "code",
   "execution_count": null,
   "id": "30f5da1c",
   "metadata": {},
   "outputs": [],
   "source": []
  },
  {
   "cell_type": "markdown",
   "id": "87797ef3",
   "metadata": {},
   "source": [
    "# partie Mohamed"
   ]
  },
  {
   "cell_type": "code",
   "execution_count": null,
   "id": "b7f1871f",
   "metadata": {},
   "outputs": [],
   "source": [
    "import matplotlib.pyplot as plt\n",
    "import numpy as np\n",
    "import pandas as pd\n",
    "import seaborn as sns\n",
    "from mpl_toolkits.mplot3d import Axes3D  # nécessaire pour le tracé 3D"
   ]
  },
  {
   "cell_type": "code",
   "execution_count": 33,
   "id": "fc761322",
   "metadata": {},
   "outputs": [
    {
     "name": "stderr",
     "output_type": "stream",
     "text": [
      "/tmp/ipykernel_1931/1655783442.py:19: DtypeWarning:\n",
      "\n",
      "Columns (35,36,37) have mixed types. Specify dtype option on import or set low_memory=False.\n",
      "\n"
     ]
    },
    {
     "name": "stdout",
     "output_type": "stream",
     "text": [
      "Total lignes: 54784\n",
      "Lignes d’en-têtes détectées: [0, 9426, 13717, 25389, 26363, 38370, 39344, 45028, 50502, 54784]\n",
      "✅ Benign_Cyber.csv sauvegardé (38 colonnes, 9425 lignes)\n",
      "✅ Benign_Physical.csv sauvegardé (17 colonnes, 4290 lignes)\n",
      "✅ DoS_Attack_Cyber.csv sauvegardé (38 colonnes, 11671 lignes)\n",
      "✅ DoS_Attack_Physical.csv sauvegardé (17 colonnes, 973 lignes)\n",
      "✅ Replay_Attack_Cyber.csv sauvegardé (38 colonnes, 12006 lignes)\n",
      "✅ Replay_Attack_Physical.csv sauvegardé (17 colonnes, 973 lignes)\n",
      "✅ Evil_Twin_Cyber.csv sauvegardé (35 colonnes, 5683 lignes)\n",
      "✅ Evil_Twin_Physical.csv sauvegardé (22 colonnes, 5473 lignes)\n",
      "✅ FDI_Cyber.csv sauvegardé (35 colonnes, 4281 lignes)\n",
      "✅ FDI_Physical.csv sauvegardé (35 colonnes, 4281 lignes)\n",
      "\n",
      "=== Extraction terminée ===\n"
     ]
    }
   ],
   "source": [
    "import pandas as pd\n",
    "import os\n",
    "\n",
    "# === CONFIGURATION ===\n",
    "input_csv = \"Dataset_T-ITS.csv\"     # ton fichier d’origine\n",
    "output_dir = \"cleaned_blocks\"\n",
    "os.makedirs(output_dir, exist_ok=True)\n",
    "\n",
    "# === MAPPING SELON TON PLAN ===\n",
    "mapping = {\n",
    "    \"Benign\":       {\"Cyber\": (1, 9426), \"Physical\": (9427, 13717)},\n",
    "    \"DoS Attack\":   {\"Cyber\": (13718, 25389), \"Physical\": (25390, 26363)},\n",
    "    \"Replay Attack\":{\"Cyber\": (26364, 38370), \"Physical\": (38371, 39344)},\n",
    "    \"Evil Twin\":    {\"Cyber\": (39345, 45028), \"Physical\": (45029, 50502)},\n",
    "    \"FDI\":          {\"Cyber\": (50503, 53976), \"Physical\": (53977, 54784)},\n",
    "}\n",
    "\n",
    "# === LECTURE BRUTE ===\n",
    "df_raw = pd.read_csv(input_csv, header=None)\n",
    "print(f\"Total lignes: {len(df_raw)}\")\n",
    "\n",
    "# === TROUVER LES LIGNES D’EN-TÊTES INTERNES ===\n",
    "header_rows = df_raw.index[df_raw[0].astype(str).str.contains(\"timestamp\", case=False, na=False)].tolist()\n",
    "header_rows.append(len(df_raw))\n",
    "print(f\"Lignes d’en-têtes détectées: {header_rows}\")\n",
    "\n",
    "# === EXTRACTION DES BLOCS ===\n",
    "blocks = []\n",
    "for i in range(len(header_rows)-1):\n",
    "    start = header_rows[i]\n",
    "    end = header_rows[i+1]\n",
    "    header = df_raw.iloc[start]\n",
    "    data_block = df_raw.iloc[start+1:end].copy()\n",
    "\n",
    "    # retirer les colonnes vides au bout\n",
    "    data_block = data_block.loc[:, ~data_block.isna().all()]\n",
    "    header = header.loc[~header.isna()]\n",
    "\n",
    "    # assigner les noms de colonnes\n",
    "    data_block.columns = header.values\n",
    "    data_block.reset_index(drop=True, inplace=True)\n",
    "    blocks.append((start, end, data_block))\n",
    "\n",
    "# === ASSIGNER CHAQUE BLOC SELON MAPPING ===\n",
    "for label, subdict in mapping.items():\n",
    "    for subtype, (start_1, end_1) in subdict.items():\n",
    "        start = start_1 - 1\n",
    "        end = end_1\n",
    "        for (b_start, b_end, block_df) in blocks:\n",
    "            if b_start <= start < b_end or b_start < end <= b_end:\n",
    "                # Ajouter les colonnes d’étiquette\n",
    "                # block_df[\"Label\"] = label\n",
    "                # block_df[\"Type\"] = subtype\n",
    "\n",
    "                # Nom de fichier\n",
    "                out_name = f\"{label.replace(' ', '_')}_{subtype}.csv\"\n",
    "                out_path = os.path.join(output_dir, out_name)\n",
    "                block_df.to_csv(out_path, index=False)\n",
    "                print(f\"✅ {out_name} sauvegardé ({len(block_df.columns)} colonnes, {len(block_df)} lignes)\")\n",
    "                break\n",
    "\n",
    "print(\"\\n=== Extraction terminée ===\")\n"
   ]
  },
  {
   "cell_type": "code",
   "execution_count": 23,
   "id": "80580bda",
   "metadata": {},
   "outputs": [],
   "source": [
    "data_Begnin_Cyber = pd.read_csv('cleaned_blocks/Benign_Cyber.csv')\n",
    "data_Begnin_Physical = pd.read_csv('cleaned_blocks/Benign_Physical.csv')\n",
    "data_DoS_Cyber = pd.read_csv('cleaned_blocks/DoS_Attack_Cyber.csv')\n",
    "data_DoS_Physical = pd.read_csv('cleaned_blocks/DoS_Attack_Physical.csv')\n",
    "data_Replay_Cyber = pd.read_csv('cleaned_blocks/Replay_Attack_Cyber.csv')\n",
    "data_Replay_Physical = pd.read_csv('cleaned_blocks/Replay_Attack_Physical.csv')\n",
    "data_EvilTwin_Cyber = pd.read_csv('cleaned_blocks/Evil_Twin_Cyber.csv')\n",
    "data_EvilTwin_Physical = pd.read_csv('cleaned_blocks/Evil_Twin_Physical.csv')\n",
    "data_FDI_Cyber = pd.read_csv('cleaned_blocks/FDI_Cyber.csv')\n",
    "data_FDI_Physical = pd.read_csv('cleaned_blocks/FDI_Physical.csv')"
   ]
  },
  {
   "cell_type": "code",
   "execution_count": 24,
   "id": "e40e3635",
   "metadata": {},
   "outputs": [
    {
     "data": {
      "text/html": [
       "<div>\n",
       "<style scoped>\n",
       "    .dataframe tbody tr th:only-of-type {\n",
       "        vertical-align: middle;\n",
       "    }\n",
       "\n",
       "    .dataframe tbody tr th {\n",
       "        vertical-align: top;\n",
       "    }\n",
       "\n",
       "    .dataframe thead th {\n",
       "        text-align: right;\n",
       "    }\n",
       "</style>\n",
       "<table border=\"1\" class=\"dataframe\">\n",
       "  <thead>\n",
       "    <tr style=\"text-align: right;\">\n",
       "      <th></th>\n",
       "      <th>timestamp_p</th>\n",
       "      <th>height</th>\n",
       "      <th>x_speed</th>\n",
       "      <th>y_speed</th>\n",
       "      <th>z_speed</th>\n",
       "      <th>pitch</th>\n",
       "      <th>roll</th>\n",
       "      <th>yaw</th>\n",
       "      <th>temperature</th>\n",
       "      <th>distance</th>\n",
       "      <th>barometer</th>\n",
       "      <th>flight_time</th>\n",
       "      <th>battery</th>\n",
       "      <th>mp_distance_x</th>\n",
       "      <th>mp_distance_y</th>\n",
       "      <th>mp_distance_z</th>\n",
       "      <th>class</th>\n",
       "      <th>Label</th>\n",
       "      <th>Type</th>\n",
       "    </tr>\n",
       "  </thead>\n",
       "  <tbody>\n",
       "    <tr>\n",
       "      <th>0</th>\n",
       "      <td>28123.02875</td>\n",
       "      <td>80</td>\n",
       "      <td>0</td>\n",
       "      <td>0</td>\n",
       "      <td>0</td>\n",
       "      <td>0</td>\n",
       "      <td>0</td>\n",
       "      <td>0</td>\n",
       "      <td>68</td>\n",
       "      <td>84</td>\n",
       "      <td>19309</td>\n",
       "      <td>7</td>\n",
       "      <td>65</td>\n",
       "      <td>-15</td>\n",
       "      <td>-5</td>\n",
       "      <td>86</td>\n",
       "      <td>benign</td>\n",
       "      <td>Benign</td>\n",
       "      <td>Physical</td>\n",
       "    </tr>\n",
       "    <tr>\n",
       "      <th>1</th>\n",
       "      <td>28123.55962</td>\n",
       "      <td>80</td>\n",
       "      <td>0</td>\n",
       "      <td>0</td>\n",
       "      <td>0</td>\n",
       "      <td>0</td>\n",
       "      <td>0</td>\n",
       "      <td>0</td>\n",
       "      <td>68</td>\n",
       "      <td>84</td>\n",
       "      <td>19305</td>\n",
       "      <td>7</td>\n",
       "      <td>65</td>\n",
       "      <td>-13</td>\n",
       "      <td>-6</td>\n",
       "      <td>86</td>\n",
       "      <td>benign</td>\n",
       "      <td>Benign</td>\n",
       "      <td>Physical</td>\n",
       "    </tr>\n",
       "    <tr>\n",
       "      <th>2</th>\n",
       "      <td>28124.07690</td>\n",
       "      <td>80</td>\n",
       "      <td>0</td>\n",
       "      <td>0</td>\n",
       "      <td>0</td>\n",
       "      <td>0</td>\n",
       "      <td>0</td>\n",
       "      <td>0</td>\n",
       "      <td>68</td>\n",
       "      <td>83</td>\n",
       "      <td>19303</td>\n",
       "      <td>8</td>\n",
       "      <td>65</td>\n",
       "      <td>-18</td>\n",
       "      <td>-6</td>\n",
       "      <td>85</td>\n",
       "      <td>benign</td>\n",
       "      <td>Benign</td>\n",
       "      <td>Physical</td>\n",
       "    </tr>\n",
       "    <tr>\n",
       "      <th>3</th>\n",
       "      <td>28124.60200</td>\n",
       "      <td>80</td>\n",
       "      <td>0</td>\n",
       "      <td>0</td>\n",
       "      <td>0</td>\n",
       "      <td>-1</td>\n",
       "      <td>0</td>\n",
       "      <td>0</td>\n",
       "      <td>67</td>\n",
       "      <td>83</td>\n",
       "      <td>19307</td>\n",
       "      <td>8</td>\n",
       "      <td>65</td>\n",
       "      <td>-21</td>\n",
       "      <td>-9</td>\n",
       "      <td>84</td>\n",
       "      <td>benign</td>\n",
       "      <td>Benign</td>\n",
       "      <td>Physical</td>\n",
       "    </tr>\n",
       "    <tr>\n",
       "      <th>4</th>\n",
       "      <td>28125.12910</td>\n",
       "      <td>80</td>\n",
       "      <td>0</td>\n",
       "      <td>0</td>\n",
       "      <td>0</td>\n",
       "      <td>-1</td>\n",
       "      <td>0</td>\n",
       "      <td>0</td>\n",
       "      <td>67</td>\n",
       "      <td>85</td>\n",
       "      <td>19309</td>\n",
       "      <td>9</td>\n",
       "      <td>65</td>\n",
       "      <td>-24</td>\n",
       "      <td>-10</td>\n",
       "      <td>84</td>\n",
       "      <td>benign</td>\n",
       "      <td>Benign</td>\n",
       "      <td>Physical</td>\n",
       "    </tr>\n",
       "  </tbody>\n",
       "</table>\n",
       "</div>"
      ],
      "text/plain": [
       "   timestamp_p  height  x_speed  y_speed  z_speed  pitch  roll  yaw  \\\n",
       "0  28123.02875      80        0        0        0      0     0    0   \n",
       "1  28123.55962      80        0        0        0      0     0    0   \n",
       "2  28124.07690      80        0        0        0      0     0    0   \n",
       "3  28124.60200      80        0        0        0     -1     0    0   \n",
       "4  28125.12910      80        0        0        0     -1     0    0   \n",
       "\n",
       "   temperature  distance  barometer  flight_time  battery  mp_distance_x  \\\n",
       "0           68        84      19309            7       65            -15   \n",
       "1           68        84      19305            7       65            -13   \n",
       "2           68        83      19303            8       65            -18   \n",
       "3           67        83      19307            8       65            -21   \n",
       "4           67        85      19309            9       65            -24   \n",
       "\n",
       "   mp_distance_y  mp_distance_z   class   Label      Type  \n",
       "0             -5             86  benign  Benign  Physical  \n",
       "1             -6             86  benign  Benign  Physical  \n",
       "2             -6             85  benign  Benign  Physical  \n",
       "3             -9             84  benign  Benign  Physical  \n",
       "4            -10             84  benign  Benign  Physical  "
      ]
     },
     "execution_count": 24,
     "metadata": {},
     "output_type": "execute_result"
    }
   ],
   "source": [
    "data_Begnin_Physical.head()"
   ]
  },
  {
   "cell_type": "code",
   "execution_count": 25,
   "id": "a888439e",
   "metadata": {},
   "outputs": [
    {
     "data": {
      "text/html": [
       "<div>\n",
       "<style scoped>\n",
       "    .dataframe tbody tr th:only-of-type {\n",
       "        vertical-align: middle;\n",
       "    }\n",
       "\n",
       "    .dataframe tbody tr th {\n",
       "        vertical-align: top;\n",
       "    }\n",
       "\n",
       "    .dataframe thead th {\n",
       "        text-align: right;\n",
       "    }\n",
       "</style>\n",
       "<table border=\"1\" class=\"dataframe\">\n",
       "  <thead>\n",
       "    <tr style=\"text-align: right;\">\n",
       "      <th></th>\n",
       "      <th>timestamp_p</th>\n",
       "      <th>height</th>\n",
       "      <th>x_speed</th>\n",
       "      <th>y_speed</th>\n",
       "      <th>z_speed</th>\n",
       "      <th>pitch</th>\n",
       "      <th>roll</th>\n",
       "      <th>yaw</th>\n",
       "      <th>temperature</th>\n",
       "      <th>distance</th>\n",
       "      <th>barometer</th>\n",
       "      <th>flight_time</th>\n",
       "      <th>battery</th>\n",
       "      <th>mp_distance_x</th>\n",
       "      <th>mp_distance_y</th>\n",
       "      <th>mp_distance_z</th>\n",
       "    </tr>\n",
       "  </thead>\n",
       "  <tbody>\n",
       "    <tr>\n",
       "      <th>count</th>\n",
       "      <td>4290.000000</td>\n",
       "      <td>4290.000000</td>\n",
       "      <td>4290.000000</td>\n",
       "      <td>4290.000000</td>\n",
       "      <td>4290.000000</td>\n",
       "      <td>4290.000000</td>\n",
       "      <td>4290.000000</td>\n",
       "      <td>4290.000000</td>\n",
       "      <td>4290.000000</td>\n",
       "      <td>4290.000000</td>\n",
       "      <td>4290.000000</td>\n",
       "      <td>4290.000000</td>\n",
       "      <td>4290.000000</td>\n",
       "      <td>4290.000000</td>\n",
       "      <td>4290.000000</td>\n",
       "      <td>4290.000000</td>\n",
       "    </tr>\n",
       "    <tr>\n",
       "      <th>mean</th>\n",
       "      <td>38373.622706</td>\n",
       "      <td>71.979021</td>\n",
       "      <td>0.067599</td>\n",
       "      <td>-0.087879</td>\n",
       "      <td>0.103263</td>\n",
       "      <td>-0.546387</td>\n",
       "      <td>-0.241026</td>\n",
       "      <td>55.676923</td>\n",
       "      <td>67.177389</td>\n",
       "      <td>97.350583</td>\n",
       "      <td>20610.464103</td>\n",
       "      <td>39.074592</td>\n",
       "      <td>59.656177</td>\n",
       "      <td>-12.591142</td>\n",
       "      <td>-14.066200</td>\n",
       "      <td>67.952681</td>\n",
       "    </tr>\n",
       "    <tr>\n",
       "      <th>std</th>\n",
       "      <td>6880.388077</td>\n",
       "      <td>13.429245</td>\n",
       "      <td>1.315332</td>\n",
       "      <td>0.450349</td>\n",
       "      <td>0.627581</td>\n",
       "      <td>1.660456</td>\n",
       "      <td>0.776307</td>\n",
       "      <td>90.928146</td>\n",
       "      <td>2.791420</td>\n",
       "      <td>342.113961</td>\n",
       "      <td>710.914790</td>\n",
       "      <td>19.965639</td>\n",
       "      <td>23.996521</td>\n",
       "      <td>47.516717</td>\n",
       "      <td>45.159429</td>\n",
       "      <td>62.623750</td>\n",
       "    </tr>\n",
       "    <tr>\n",
       "      <th>min</th>\n",
       "      <td>28123.028750</td>\n",
       "      <td>-10.000000</td>\n",
       "      <td>-5.000000</td>\n",
       "      <td>-3.000000</td>\n",
       "      <td>-2.000000</td>\n",
       "      <td>-11.000000</td>\n",
       "      <td>-7.000000</td>\n",
       "      <td>-179.000000</td>\n",
       "      <td>53.000000</td>\n",
       "      <td>10.000000</td>\n",
       "      <td>18909.000000</td>\n",
       "      <td>2.000000</td>\n",
       "      <td>20.000000</td>\n",
       "      <td>-200.000000</td>\n",
       "      <td>-200.000000</td>\n",
       "      <td>-200.000000</td>\n",
       "    </tr>\n",
       "    <tr>\n",
       "      <th>25%</th>\n",
       "      <td>31300.990075</td>\n",
       "      <td>70.000000</td>\n",
       "      <td>0.000000</td>\n",
       "      <td>0.000000</td>\n",
       "      <td>0.000000</td>\n",
       "      <td>-1.000000</td>\n",
       "      <td>0.000000</td>\n",
       "      <td>0.000000</td>\n",
       "      <td>66.000000</td>\n",
       "      <td>79.000000</td>\n",
       "      <td>19817.000000</td>\n",
       "      <td>22.000000</td>\n",
       "      <td>40.000000</td>\n",
       "      <td>-12.000000</td>\n",
       "      <td>-14.000000</td>\n",
       "      <td>80.000000</td>\n",
       "    </tr>\n",
       "    <tr>\n",
       "      <th>50%</th>\n",
       "      <td>38485.998845</td>\n",
       "      <td>80.000000</td>\n",
       "      <td>0.000000</td>\n",
       "      <td>0.000000</td>\n",
       "      <td>0.000000</td>\n",
       "      <td>0.000000</td>\n",
       "      <td>0.000000</td>\n",
       "      <td>0.000000</td>\n",
       "      <td>67.000000</td>\n",
       "      <td>80.000000</td>\n",
       "      <td>21025.000000</td>\n",
       "      <td>38.000000</td>\n",
       "      <td>61.000000</td>\n",
       "      <td>-4.000000</td>\n",
       "      <td>-5.000000</td>\n",
       "      <td>82.000000</td>\n",
       "    </tr>\n",
       "    <tr>\n",
       "      <th>75%</th>\n",
       "      <td>43875.459452</td>\n",
       "      <td>80.000000</td>\n",
       "      <td>0.000000</td>\n",
       "      <td>0.000000</td>\n",
       "      <td>0.000000</td>\n",
       "      <td>0.000000</td>\n",
       "      <td>0.000000</td>\n",
       "      <td>178.000000</td>\n",
       "      <td>69.000000</td>\n",
       "      <td>82.000000</td>\n",
       "      <td>21231.000000</td>\n",
       "      <td>55.000000</td>\n",
       "      <td>79.000000</td>\n",
       "      <td>4.000000</td>\n",
       "      <td>4.000000</td>\n",
       "      <td>84.000000</td>\n",
       "    </tr>\n",
       "    <tr>\n",
       "      <th>max</th>\n",
       "      <td>54385.241520</td>\n",
       "      <td>110.000000</td>\n",
       "      <td>5.000000</td>\n",
       "      <td>3.000000</td>\n",
       "      <td>4.000000</td>\n",
       "      <td>8.000000</td>\n",
       "      <td>6.000000</td>\n",
       "      <td>179.000000</td>\n",
       "      <td>74.000000</td>\n",
       "      <td>6553.000000</td>\n",
       "      <td>21356.000000</td>\n",
       "      <td>95.000000</td>\n",
       "      <td>100.000000</td>\n",
       "      <td>68.000000</td>\n",
       "      <td>49.000000</td>\n",
       "      <td>122.000000</td>\n",
       "    </tr>\n",
       "  </tbody>\n",
       "</table>\n",
       "</div>"
      ],
      "text/plain": [
       "        timestamp_p       height      x_speed      y_speed      z_speed  \\\n",
       "count   4290.000000  4290.000000  4290.000000  4290.000000  4290.000000   \n",
       "mean   38373.622706    71.979021     0.067599    -0.087879     0.103263   \n",
       "std     6880.388077    13.429245     1.315332     0.450349     0.627581   \n",
       "min    28123.028750   -10.000000    -5.000000    -3.000000    -2.000000   \n",
       "25%    31300.990075    70.000000     0.000000     0.000000     0.000000   \n",
       "50%    38485.998845    80.000000     0.000000     0.000000     0.000000   \n",
       "75%    43875.459452    80.000000     0.000000     0.000000     0.000000   \n",
       "max    54385.241520   110.000000     5.000000     3.000000     4.000000   \n",
       "\n",
       "             pitch         roll          yaw  temperature     distance  \\\n",
       "count  4290.000000  4290.000000  4290.000000  4290.000000  4290.000000   \n",
       "mean     -0.546387    -0.241026    55.676923    67.177389    97.350583   \n",
       "std       1.660456     0.776307    90.928146     2.791420   342.113961   \n",
       "min     -11.000000    -7.000000  -179.000000    53.000000    10.000000   \n",
       "25%      -1.000000     0.000000     0.000000    66.000000    79.000000   \n",
       "50%       0.000000     0.000000     0.000000    67.000000    80.000000   \n",
       "75%       0.000000     0.000000   178.000000    69.000000    82.000000   \n",
       "max       8.000000     6.000000   179.000000    74.000000  6553.000000   \n",
       "\n",
       "          barometer  flight_time      battery  mp_distance_x  mp_distance_y  \\\n",
       "count   4290.000000  4290.000000  4290.000000    4290.000000    4290.000000   \n",
       "mean   20610.464103    39.074592    59.656177     -12.591142     -14.066200   \n",
       "std      710.914790    19.965639    23.996521      47.516717      45.159429   \n",
       "min    18909.000000     2.000000    20.000000    -200.000000    -200.000000   \n",
       "25%    19817.000000    22.000000    40.000000     -12.000000     -14.000000   \n",
       "50%    21025.000000    38.000000    61.000000      -4.000000      -5.000000   \n",
       "75%    21231.000000    55.000000    79.000000       4.000000       4.000000   \n",
       "max    21356.000000    95.000000   100.000000      68.000000      49.000000   \n",
       "\n",
       "       mp_distance_z  \n",
       "count    4290.000000  \n",
       "mean       67.952681  \n",
       "std        62.623750  \n",
       "min      -200.000000  \n",
       "25%        80.000000  \n",
       "50%        82.000000  \n",
       "75%        84.000000  \n",
       "max       122.000000  "
      ]
     },
     "execution_count": 25,
     "metadata": {},
     "output_type": "execute_result"
    }
   ],
   "source": [
    "data_Begnin_Physical.describe()"
   ]
  },
  {
   "cell_type": "code",
   "execution_count": null,
   "id": "5ad626c3",
   "metadata": {},
   "outputs": [
    {
     "data": {
      "application/vnd.plotly.v1+json": {
       "config": {
        "plotlyServerURL": "https://plot.ly"
       },
       "data": [
        {
         "coloraxis": "coloraxis",
         "histfunc": "sum",
         "hovertemplate": "mp_distance_x=%{x}<br>mp_distance_z=%{y}<br>sum of Température=%{z}<extra></extra>",
         "name": "",
         "nbinsx": 100,
         "nbinsy": 100,
         "type": "histogram2d",
         "x": {
          "bdata": "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",
          "dtype": "i2"
         },
         "xaxis": "x",
         "xbingroup": "x",
         "y": {
          "bdata": "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",
          "dtype": "i2"
         },
         "yaxis": "y",
         "ybingroup": "y",
         "z": {
          "bdata": "REREQ0NERERERERERERERERERERFRURERERERENDREREREVFRERDQ0NDREREQ0NDQ0RERERDQ0REREREREREREREREREREREREREREREREREREREQ0RERERERENDREREREREREREREREREREREREREREQ0NERERESEhISEhISEhIR0dISEdHR0dISEdHR0dHR0dHR0dHRkZGRkZGR0dGRkZGRkdHRkZGRkZGRkZGRkZGRkZGRkZGRkZGRkZGRkVFRUVFRUVFRUVGRkZGRkZGRkVFRUVFRUVFRkVFRUVFRUVFRUVFRUVFRERFRUVFRERERERERERERERERERERUVFRUVFREREREVFREREREREREVFRUVERERERUVFRURERERERERERUVFRERERERERUVEREREREREREVFRERERERFRURERERERERERUVEREREREREREREREREQ0NDRERDQ0NDQ0NERENDQ0NERENDQ0NDQ0NDQ0NDQ0NERENDQ0NDQ0NERENDQ0NDQ0NDQ0NDQ0NDRERERENDQ0NDQ0NDQkREQ0NDQ0NDQ0NDQ0NDQ0NERENERERERERDQ0NDQ0NEREREQ0NDQ0RERD4+Pj4+Pj8/Pj4+Pj4+Pz8/Pz8/Pz8/Pz8/Pz8/QEA/P0BAPz9BQUBAQEBAQEBAQEBAQEBAQEBAQUFBQUBAQEBBQUFBQUFBQUFAQEFBQkJCQkFBQUFBQUJCQkJBQUFBQUJCQkJCQkJCQkJCQkJCQkJCQkJCQkNDQkJCQkNCQkJCQ0NCQkNDQ0NDQ0NDQkJDQ0NDQ0NDQ0NDQ0NDQ0NERENDQ0NDQ0NDRERDQ0JDQ0NDQ0NDQ0NDQ0NDQ0NDQ0NDQ0JCQ0NDQ0NERENDQ0NDQ0NDQ0NDQ0NDRERDQ0NDRERDQ0NCQkJCQkJCQkJCQkJCQkJCQkJCQkJCQkJCQkJCQ0NDQkJCQkJCQ0NDQ0NDQ0NDQ0NDQ0NDQ0NCQkJCQ0NCQkNDQ0NDQ0NDQkJDRERDQ0NDQ0NDQ0NDQ0NEREREQ0NDQ0NDQ0NDRERERENDQkI+Pz8/Pz8/Pz8/Pz8/QEBAQD8/Pz9AQEBAQEBAPz9AQEBAQEBBQUBAQEBAQEFBQEFBQEBBQUFBQUFCQkFBQUFBQUJCQUJCQUFBQUFBQkJCQkJCQkJCQkJBQUJCQkJCQkJCQ0NCQkJCQkJBQUFAQEBAQEBAQEFBQUFBQUFAQEFBQUFBQUFBQkJBQUJCQkJCQUFBQUFBQUFCQkJCQkJCQkJCQkJCQkJCQkJCQkJCQkJCQkJCQkJCQkJCQkJCQkNDQ0NCQkJCQkJCQkNDQ0JCQkJCQkJCQkJCQkJCQkJCQkJDQkJCQkJCQkJDQ0JCQkJDQ0NDQkJCQkJCQkJCQkJCQkJCQkJDQ0JCQ0NDQ0NDQ0NDQ0NDQ0REQ0JCQ0NDQ0NDQ0NDQ0NDQ0NERENDQ0NDQ0NDQ0NDQ0NDQ0NDQ0NDQ0REQ0NDQ0NDRENDQ0NDQ0NDRERDQ0NDREREQ0NERENCQkJCQkJCQkJCQkJCQkJCQkJCQkJCQkJCQkJCQkNDQkJCQkJDQ0NDQkJDQ0NDQkJDQ0NDQkJDQ0NDQ0NDQ0NDQ0NDQ0NDQ0NDQ0NDQ0NERENDRERDQ0JCQ0NDQ0NDQ0NDQ0NDQ0NDQj8/P0BAQEBAQEBAQEBAQEFBQEBBQUFBQEBBQUFBQEBBQUFBQUJCQUFBQUFBQUFBQUFBQkJBQUJCQkJCQkJCQkJCQkJCQkJCQkJCQkJCQkJCQkJDQ0JCQkJDQ0JCQkJDQ0NDQ0NCQkJCQ0NCQkJDQ0JCQ0NDQ0NDQ0NDQ0NDQkI+Pj8/Pj4/Pz8/Pz8/Pz8/Pz8/Pz8/QEA/Pz8/P0BAPz9AQEBAQEBAQEBAQEBBQUBAQEFBQEBAQEFBQUFBQUFBQEBAQEFBQUFBQUFCQkFBQUFBQUJCQUFBQUJCQUJCQUFCQkJCQkJBQUJCQ0NCQkJCQkJCQkJCQkJCQ0NCQkNDQkJDRkZGRUVGRkVFRUVFRUVFRkZGRkVFRUVFRUVFRUVFRUVFRUVFRUVFRUVFREREREVFRUVFRUVFRUVFRUVFRURERERFRUVFRUVFRERFRURERERFRUVFRERFRUVFRUVFRURERERERUVHSEhHR0dHRkZHR0dHRkdHR0dHR0ZGRkZHR0dHRkZFRUZGRkZGRkZGRkZGRUVGRkZGRkZFRUVFRUVFRUVGRkVFRkZFRUVFRkZGRkVFRUVFRUVFRUVFRUVFRUVFRUVFRUVFRUVHSEhISEdHR0dISEdHR0dHRkZHR0dHRkZHR0ZGR0dHR0ZGRkZGRkZGRkZGRkZGRkZGRkZGRkdHR0ZGRkZFRUZGRkZFRUZGRkZFRUVFRkZGRUVGRkVFRUVGRkZGRkZGRkVFRUVFRkZFRUZGRkZFRUZGRkQ7Ozw8Ozs8PDs7PDw8PDw9PTw8PT09PT09Pj49PT09PT0+Pj4+Pj4+Pz8/Pz8/Pz8/Pz8/Pz8/P0BAQEA/P0BAQEBAQEBAQEFBQUFAQEFBQUFBQkJCQkFBQUFCQkJCQUFCQkJCQkJCQkJCQkFBQkZGRkVFRUVFRUVFRUVGRkVFRUVFRUVFRUVFRUVFRUVFRUVFRUVFRUVFRUVFRUVFRUVFRUVGRkZFRUVFRUVFRUZGRUVGRkVFRUVFRUVFRkZGRUVFRUVFRUVGRkZGRkZGRkVFRkZFRUVFRUVGRkVGRkZFRkZGRkZDQ0NDQkJCQkJCQ0NCQkNDQ0NDQkJCQkNDQkJDQ0NDQ0NDQ0NDRERERENDQ0NDRERDQ0NDQ0NDQ0NDQ0NERENDRERDRERDQ0REREREREREQ0NERERERERERERERERERERFRUREREREREVFRUVEREVFRERERERFRUVFREREREREQEBAQEBBQUFBQEBAQEBAQEFBQUFBQUFBQUFBQUFBQkJCQkFBQkJCQUFBQUJCQkJCQkJCQkJCQkJCQ0JCQkJCQkNDQkJDQ0NDQkJDQ0JCQ0NCQkNDQ0NDQ0NDQ0NDQ0NDQ0NDQ0NDQ0RDQ0REQ0NEREREQ0NDQ0NDPz8/Pz8/QEA/P0BAQEBAQEBAQEBAQEBAQEBAQEBAQEBBQUFBQUFBQUFBQUFBQUFBQUFBQUFBQUFBQkJBQUJCQkJCQkJCQUFCQkJCQkJCQkJCQkJBQUJCQkJCQkJDQ0JCQkJDQ0JCQkJDQ0NCQkJCQ0NDQkJDQ0NDQ0NDQkJCQkNDQkJCQkJCQ0NCQkJCQkJCQ0NCQkJCQkJCQkJCQ0NDQ0NDQkJDQ0REQ0NDQ0NDQ0NDQ0NDQ0NDQ0NDQ0NDQ0NDQ0NDQ0NDREREREREQ0NDQ0RERERERERDQ0RERERERERERERDQ0REREREREREREREREREREREREREREREREdHSEhISEhHR0hIR0dHR0dHR0dHR0dHR0dHR0dHR0dHR0dHR0ZGR0dGRkdHRkZGRkZHR0dHRkZGRkZGRkZGRkdHRkZFRUZGRkZGRkZGRkZGRkZGRkZGRkZGRkZGRUZGRkZGRkdHRkZGRkZGRkZGRkZGRkZFRUZGRjo6Ojo6Ojo6Ojo6Ozs7Ozs7Ozs7PDw8PDw8PDw9PTw8PT09PT09PT0+Pj4+Pj4+Pj4+Pj8/Pj4/Pz8/Pz8/Pz8/Pz9AQD8/Pz9AQEBAQEBAQEBAQEBAQEBBQUBAQEBBQUFBQUFBQUJCQUFBQUFBQUFCQkJCQkJCQkJCQkJCQkJDQ0JCQUFDQ0NDQ0RERERDQ0RERENDRERDQ0NDRERERENDRERERENDQ0REQ0NDQ0NDREREREREQ0NERERERERERERERERERERERERERERERERERERFRURERUVERERERERERERFRUVFRERERERERURERERERERERUVEREVFRERERERFRUVFRURERERERUVERERERUVFRUZGRERERERERERFRUVFRUVFRUVFRUVCQ0NDQ0NDQkJDQ0JCQ0NDQ0NDQ0NDQkJDQ0NDQkJDQ0NDQ0NDQ0NDRERDQ0REQ0NDRERDQ0REQ0NDQ0REREREREREREREREREQ0NDQ0RERERERERERENDRERERERERERERERERERDRERERERERERERERERERERERERERFRURERUVEREVFREVFRUVFRUVFRUVFRURERERFRURERUVFRUVFRERISEhISEdHR0dHR0dHR0dHR0dISEdHR0dHR0dHR0dHR0dHR0dHR0dHR0dHR0dHR0dGRkdHR0ZGRkZHR0dHRkZHR0ZGRkZHR0dHRkZGRkZGR0dHRkZHR0dHR0dHR0dHR0dGRkdHR0dGRkZGRkZGRkZGRkZHR0ZGRkZHR0dGRkdHRkZFPj4+Pj4/Pz8/Pj4/Pz8/Pz9AQD8/Pz8/P0BAQEBAQEBAQEBAQEBAQEFBQUFAQEBAQUFBQUFBQUFBQkJCQkJCQkJCQkJCQkJCQkJCQkJCQkJCQkNDQkJCQkJCQ0NDQ0JCQ0NDQ0NDQ0NDQkJCQkNDQ0NDQ0NERENDRERDQ0RERERERENDRERERERERENDQ0NEPj49PT4+Pj8/Pz8/Pz8/Pz8/Pz8/QEA/P0BAQEBAQEBAQEBAQEBAQEBAQEBBQUFBQUFBQUBCQkJCQUFCQkJCQkJCQkJCQkJCQkJCQkJCQkJCQkJCQkJCQkJCQkJCQkJCQkJDQ0NDQ0JCQkJDQ0NDQ0NDQ0NDRERDQ0RERERERERERENDQ0NDQ0NDREREREREQ0NERERERERDRERERERERERERERERERERERERERERERERERERUVERERERERERUVFRURERERFRURERUVFRURERUVFRUVEREVFRUVFRUVFRERFRURERUVFRURERERERUVFRUVFREREREVFRUVFRUVFRUVFREREREREREVFRUVERERERUVFRUVERERERERFRUVFRUVFRUVFRURERUVEREVFRERFRURERUVFRURERUVFRUVFRUVFRUVFRUZGRUVFRUVFRUVFRUVFRUVFRUVFRUVFRUVFRUVFRUVFRUVFRUVFRkZFRUVFRUVFRUVFRUVFRUVFRUVFRUVFRUVFRUVFRUVFRUVFRUVFRUVFRUVFRUVFRUVFRUVFRkZFRUVFRUVFRUVFRUVFRERFRUVFRUVFRUVFRUVFRUZGRUVFRUVFRUZGRUVFRUVFRUVFRURERUVFRUVFRUVFRkZFRUVFRUVFRUZGRUVFRERJSUhISEhJSUhISEhISEhISEhISEhISEhIR0dISEdHR0dISEhISEhIR0dHR0dHR0dISEdHR0dISEdHRkZHR0dHR0dHR0dGRkdHR0dHR0dHR0dGRkdHR0dHRkZHR0ZGR0dGRkdHR0dGRkZGRkpKSkpKSkpKSUlJSUpKSUlKSUlJSUlJSEhKSklJSUlJSUlJSEhISEhJSUlJSEhISEhISEhISEhISEhISEhISEhISEhHR0dHSEhHR0dHR0dHR0hISEdHR0dHR0dHSEhHR0dHR0dHR0dHR0dHR0dHR0dHR0dHR0ZGR0dHR0dHR0dHR0dGRjU1NTU2Njc3Nzc3Nzg4Nzc4ODg4ODg4OTk5OTk5OTk6Ojo6Ozs7Ozo6Ozs7Ozs7Ozw8PDw8PDw8PDw8PDw8PT08PDw+Pj09PT09PT4+PT0+Pj4+Pj4/Pz8/Pj4+Pj8/Pz8/Pz8/P0BAQEBAQEBAQEBAQEBAQEBAQEBAQEBAQUFAQEBAQEBBQUFAQEFBQUFBQUFBQUFBQUFBQUFBQUFB",
          "dtype": "i1"
         }
        },
        {
         "marker": {
          "color": {
           "bdata": "REREQ0NERERERERERERERERERERFRURERERERENDREREREVFRERDQ0NDREREQ0NDQ0RERERDQ0REREREREREREREREREREREREREREREREREREREQ0RERERERENDREREREREREREREREREREREREREREQ0NERERESEhISEhISEhIR0dISEdHR0dISEdHR0dHR0dHR0dHRkZGRkZGR0dGRkZGRkdHRkZGRkZGRkZGRkZGRkZGRkZGRkZGRkZGRkVFRUVFRUVFRUVGRkZGRkZGRkVFRUVFRUVFRkVFRUVFRUVFRUVFRUVFRERFRUVFRERERERERERERERERERERUVFRUVFREREREVFREREREREREVFRUVERERERUVFRURERERERERERUVFRERERERERUVEREREREREREVFRERERERFRURERERERERERUVEREREREREREREREREQ0NDRERDQ0NDQ0NERENDQ0NERENDQ0NDQ0NDQ0NDQ0NERENDQ0NDQ0NERENDQ0NDQ0NDQ0NDQ0NDRERERENDQ0NDQ0NDQkREQ0NDQ0NDQ0NDQ0NDQ0NERENERERERERDQ0NDQ0NEREREQ0NDQ0RERD4+Pj4+Pj8/Pj4+Pj4+Pz8/Pz8/Pz8/Pz8/Pz8/QEA/P0BAPz9BQUBAQEBAQEBAQEBAQEBAQEBAQUFBQUBAQEBBQUFBQUFBQUFAQEFBQkJCQkFBQUFBQUJCQkJBQUFBQUJCQkJCQkJCQkJCQkJCQkJCQkJCQkNDQkJCQkNCQkJCQ0NCQkNDQ0NDQ0NDQkJDQ0NDQ0NDQ0NDQ0NDQ0NERENDQ0NDQ0NDRERDQ0JDQ0NDQ0NDQ0NDQ0NDQ0NDQ0NDQ0JCQ0NDQ0NERENDQ0NDQ0NDQ0NDQ0NDRERDQ0NDRERDQ0NCQkJCQkJCQkJCQkJCQkJCQkJCQkJCQkJCQkJCQ0NDQkJCQkJCQ0NDQ0NDQ0NDQ0NDQ0NDQ0NCQkJCQ0NCQkNDQ0NDQ0NDQkJDRERDQ0NDQ0NDQ0NDQ0NEREREQ0NDQ0NDQ0NDRERERENDQkI+Pz8/Pz8/Pz8/Pz8/QEBAQD8/Pz9AQEBAQEBAPz9AQEBAQEBBQUBAQEBAQEFBQEFBQEBBQUFBQUFCQkFBQUFBQUJCQUJCQUFBQUFBQkJCQkJCQkJCQkJBQUJCQkJCQkJCQ0NCQkJCQkJBQUFAQEBAQEBAQEFBQUFBQUFAQEFBQUFBQUFBQkJBQUJCQkJCQUFBQUFBQUFCQkJCQkJCQkJCQkJCQkJCQkJCQkJCQkJCQkJCQkJCQkJCQkJCQkNDQ0NCQkJCQkJCQkNDQ0JCQkJCQkJCQkJCQkJCQkJCQkJDQkJCQkJCQkJDQ0JCQkJDQ0NDQkJCQkJCQkJCQkJCQkJCQkJDQ0JCQ0NDQ0NDQ0NDQ0NDQ0REQ0JCQ0NDQ0NDQ0NDQ0NDQ0NERENDQ0NDQ0NDQ0NDQ0NDQ0NDQ0NDQ0REQ0NDQ0NDRENDQ0NDQ0NDRERDQ0NDREREQ0NERENCQkJCQkJCQkJCQkJCQkJCQkJCQkJCQkJCQkJCQkNDQkJCQkJDQ0NDQkJDQ0NDQkJDQ0NDQkJDQ0NDQ0NDQ0NDQ0NDQ0NDQ0NDQ0NDQ0NERENDRERDQ0JCQ0NDQ0NDQ0NDQ0NDQ0NDQj8/P0BAQEBAQEBAQEBAQEFBQEBBQUFBQEBBQUFBQEBBQUFBQUJCQUFBQUFBQUFBQUFBQkJBQUJCQkJCQkJCQkJCQkJCQkJCQkJCQkJCQkJCQkJDQ0JCQkJDQ0JCQkJDQ0NDQ0NCQkJCQ0NCQkJDQ0JCQ0NDQ0NDQ0NDQ0NDQkI+Pj8/Pj4/Pz8/Pz8/Pz8/Pz8/Pz8/QEA/Pz8/P0BAPz9AQEBAQEBAQEBAQEBBQUBAQEFBQEBAQEFBQUFBQUFBQEBAQEFBQUFBQUFCQkFBQUFBQUJCQUFBQUJCQUJCQUFCQkJCQkJBQUJCQ0NCQkJCQkJCQkJCQkJCQ0NCQkNDQkJDRkZGRUVGRkVFRUVFRUVFRkZGRkVFRUVFRUVFRUVFRUVFRUVFRUVFRUVFREREREVFRUVFRUVFRUVFRUVFRURERERFRUVFRUVFRERFRURERERFRUVFRERFRUVFRUVFRURERERERUVHSEhHR0dHRkZHR0dHRkdHR0dHR0ZGRkZHR0dHRkZFRUZGRkZGRkZGRkZGRUVGRkZGRkZFRUVFRUVFRUVGRkVFRkZFRUVFRkZGRkVFRUVFRUVFRUVFRUVFRUVFRUVFRUVFRUVHSEhISEdHR0dISEdHR0dHRkZHR0dHRkZHR0ZGR0dHR0ZGRkZGRkZGRkZGRkZGRkZGRkZGRkdHR0ZGRkZFRUZGRkZFRUZGRkZFRUVFRkZGRUVGRkVFRUVGRkZGRkZGRkVFRUVFRkZFRUZGRkZFRUZGRkQ7Ozw8Ozs8PDs7PDw8PDw9PTw8PT09PT09Pj49PT09PT0+Pj4+Pj4+Pz8/Pz8/Pz8/Pz8/Pz8/P0BAQEA/P0BAQEBAQEBAQEFBQUFAQEFBQUFBQkJCQkFBQUFCQkJCQUFCQkJCQkJCQkJCQkFBQkZGRkVFRUVFRUVFRUVGRkVFRUVFRUVFRUVFRUVFRUVFRUVFRUVFRUVFRUVFRUVFRUVFRUVGRkZFRUVFRUVFRUZGRUVGRkVFRUVFRUVFRkZGRUVFRUVFRUVGRkZGRkZGRkVFRkZFRUVFRUVGRkVGRkZFRkZGRkZDQ0NDQkJCQkJCQ0NCQkNDQ0NDQkJCQkNDQkJDQ0NDQ0NDQ0NDRERERENDQ0NDRERDQ0NDQ0NDQ0NDQ0NERENDRERDRERDQ0REREREREREQ0NERERERERERERERERERERFRUREREREREVFRUVEREVFRERERERFRUVFREREREREQEBAQEBBQUFBQEBAQEBAQEFBQUFBQUFBQUFBQUFBQkJCQkFBQkJCQUFBQUJCQkJCQkJCQkJCQkJCQ0JCQkJCQkNDQkJDQ0NDQkJDQ0JCQ0NCQkNDQ0NDQ0NDQ0NDQ0NDQ0NDQ0NDQ0RDQ0REQ0NEREREQ0NDQ0NDPz8/Pz8/QEA/P0BAQEBAQEBAQEBAQEBAQEBAQEBAQEBBQUFBQUFBQUFBQUFBQUFBQUFBQUFBQUFBQkJBQUJCQkJCQkJCQUFCQkJCQkJCQkJCQkJBQUJCQkJCQkJDQ0JCQkJDQ0JCQkJDQ0NCQkJCQ0NDQkJDQ0NDQ0NDQkJCQkNDQkJCQkJCQ0NCQkJCQkJCQ0NCQkJCQkJCQkJCQ0NDQ0NDQkJDQ0REQ0NDQ0NDQ0NDQ0NDQ0NDQ0NDQ0NDQ0NDQ0NDQ0NDREREREREQ0NDQ0RERERERERDQ0RERERERERERERDQ0REREREREREREREREREREREREREREREREdHSEhISEhHR0hIR0dHR0dHR0dHR0dHR0dHR0dHR0dHR0dHR0ZGR0dGRkdHRkZGRkZHR0dHRkZGRkZGRkZGRkdHRkZFRUZGRkZGRkZGRkZGRkZGRkZGRkZGRkZGRUZGRkZGRkdHRkZGRkZGRkZGRkZGRkZFRUZGRjo6Ojo6Ojo6Ojo6Ozs7Ozs7Ozs7PDw8PDw8PDw9PTw8PT09PT09PT0+Pj4+Pj4+Pj4+Pj8/Pj4/Pz8/Pz8/Pz8/Pz9AQD8/Pz9AQEBAQEBAQEBAQEBAQEBBQUBAQEBBQUFBQUFBQUJCQUFBQUFBQUFCQkJCQkJCQkJCQkJCQkJDQ0JCQUFDQ0NDQ0RERERDQ0RERENDRERDQ0NDRERERENDRERERENDQ0REQ0NDQ0NDREREREREQ0NERERERERERERERERERERERERERERERERERERFRURERUVERERERERERERFRUVFRERERERERURERERERERERUVEREVFRERERERFRUVFRURERERERUVERERERUVFRUZGRERERERERERFRUVFRUVFRUVFRUVCQ0NDQ0NDQkJDQ0JCQ0NDQ0NDQ0NDQkJDQ0NDQkJDQ0NDQ0NDQ0NDRERDQ0REQ0NDRERDQ0REQ0NDQ0REREREREREREREREREQ0NDQ0RERERERERERENDRERERERERERERERERERDRERERERERERERERERERERERERERFRURERUVEREVFREVFRUVFRUVFRUVFRURERERFRURERUVFRUVFRERISEhISEdHR0dHR0dHR0dHR0dISEdHR0dHR0dHR0dHR0dHR0dHR0dHR0dHR0dHR0dGRkdHR0ZGRkZHR0dHRkZHR0ZGRkZHR0dHRkZGRkZGR0dHRkZHR0dHR0dHR0dHR0dGRkdHR0dGRkZGRkZGRkZGRkZHR0ZGRkZHR0dGRkdHRkZFPj4+Pj4/Pz8/Pj4/Pz8/Pz9AQD8/Pz8/P0BAQEBAQEBAQEBAQEBAQEFBQUFAQEBAQUFBQUFBQUFBQkJCQkJCQkJCQkJCQkJCQkJCQkJCQkJCQkNDQkJCQkJCQ0NDQ0JCQ0NDQ0NDQ0NDQkJCQkNDQ0NDQ0NERENDRERDQ0RERERERENDRERERERERENDQ0NEPj49PT4+Pj8/Pz8/Pz8/Pz8/Pz8/QEA/P0BAQEBAQEBAQEBAQEBAQEBAQEBBQUFBQUFBQUBCQkJCQUFCQkJCQkJCQkJCQkJCQkJCQkJCQkJCQkJCQkJCQkJCQkJCQkJCQkJDQ0NDQ0JCQkJDQ0NDQ0NDQ0NDRERDQ0RERERERERERENDQ0NDQ0NDREREREREQ0NERERERERDRERERERERERERERERERERERERERERERERERERUVERERERERERUVFRURERERFRURERUVFRURERUVFRUVEREVFRUVFRUVFRERFRURERUVFRURERERERUVFRUVFREREREVFRUVFRUVFRUVFREREREREREVFRUVERERERUVFRUVERERERERFRUVFRUVFRUVFRURERUVEREVFRERFRURERUVFRURERUVFRUVFRUVFRUVFRUZGRUVFRUVFRUVFRUVFRUVFRUVFRUVFRUVFRUVFRUVFRUVFRUVFRkZFRUVFRUVFRUVFRUVFRUVFRUVFRUVFRUVFRUVFRUVFRUVFRUVFRUVFRUVFRUVFRUVFRUVFRkZFRUVFRUVFRUVFRUVFRERFRUVFRUVFRUVFRUVFRUZGRUVFRUVFRUZGRUVFRUVFRUVFRURERUVFRUVFRUVFRkZFRUVFRUVFRUZGRUVFRERJSUhISEhJSUhISEhISEhISEhISEhISEhIR0dISEdHR0dISEhISEhIR0dHR0dHR0dISEdHR0dISEdHRkZHR0dHR0dHR0dGRkdHR0dHR0dHR0dGRkdHR0dHRkZHR0ZGR0dGRkdHR0dGRkZGRkpKSkpKSkpKSUlJSUpKSUlKSUlJSUlJSEhKSklJSUlJSUlJSEhISEhJSUlJSEhISEhISEhISEhISEhISEhISEhISEhHR0dHSEhHR0dHR0dHR0hISEdHR0dHR0dHSEhHR0dHR0dHR0dHR0dHR0dHR0dHR0dHR0ZGR0dHR0dHR0dHR0dGRjU1NTU2Njc3Nzc3Nzg4Nzc4ODg4ODg4OTk5OTk5OTk6Ojo6Ozs7Ozo6Ozs7Ozs7Ozw8PDw8PDw8PDw8PDw8PT08PDw+Pj09PT09PT4+PT0+Pj4+Pj4/Pz8/Pj4+Pj8/Pz8/Pz8/P0BAQEBAQEBAQEBAQEBAQEBAQEBAQEBAQUFAQEBAQEBBQUFAQEFBQUFBQUFBQUFBQUFBQUFBQUFB",
           "dtype": "i1"
          },
          "colorbar": {
           "title": {
            "text": "Température"
           }
          },
          "colorscale": [
           [
            0,
            "#0d0887"
           ],
           [
            0.1111111111111111,
            "#46039f"
           ],
           [
            0.2222222222222222,
            "#7201a8"
           ],
           [
            0.3333333333333333,
            "#9c179e"
           ],
           [
            0.4444444444444444,
            "#bd3786"
           ],
           [
            0.5555555555555556,
            "#d8576b"
           ],
           [
            0.6666666666666666,
            "#ed7953"
           ],
           [
            0.7777777777777778,
            "#fb9f3a"
           ],
           [
            0.8888888888888888,
            "#fdca26"
           ],
           [
            1,
            "#f0f921"
           ]
          ],
          "opacity": 0.6,
          "size": 5
         },
         "mode": "markers",
         "name": "Mesures réelles",
         "type": "scatter",
         "x": {
          "bdata": "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",
          "dtype": "i2"
         },
         "y": {
          "bdata": "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",
          "dtype": "i2"
         }
        }
       ],
       "layout": {
        "coloraxis": {
         "colorbar": {
          "title": {
           "text": "sum of Température"
          }
         },
         "colorscale": [
          [
           0,
           "#0d0887"
          ],
          [
           0.1111111111111111,
           "#46039f"
          ],
          [
           0.2222222222222222,
           "#7201a8"
          ],
          [
           0.3333333333333333,
           "#9c179e"
          ],
          [
           0.4444444444444444,
           "#bd3786"
          ],
          [
           0.5555555555555556,
           "#d8576b"
          ],
          [
           0.6666666666666666,
           "#ed7953"
          ],
          [
           0.7777777777777778,
           "#fb9f3a"
          ],
          [
           0.8888888888888888,
           "#fdca26"
          ],
          [
           1,
           "#f0f921"
          ]
         ]
        },
        "height": 750,
        "legend": {
         "tracegroupgap": 0
        },
        "template": {
         "data": {
          "bar": [
           {
            "error_x": {
             "color": "#2a3f5f"
            },
            "error_y": {
             "color": "#2a3f5f"
            },
            "marker": {
             "line": {
              "color": "white",
              "width": 0.5
             },
             "pattern": {
              "fillmode": "overlay",
              "size": 10,
              "solidity": 0.2
             }
            },
            "type": "bar"
           }
          ],
          "barpolar": [
           {
            "marker": {
             "line": {
              "color": "white",
              "width": 0.5
             },
             "pattern": {
              "fillmode": "overlay",
              "size": 10,
              "solidity": 0.2
             }
            },
            "type": "barpolar"
           }
          ],
          "carpet": [
           {
            "aaxis": {
             "endlinecolor": "#2a3f5f",
             "gridcolor": "#C8D4E3",
             "linecolor": "#C8D4E3",
             "minorgridcolor": "#C8D4E3",
             "startlinecolor": "#2a3f5f"
            },
            "baxis": {
             "endlinecolor": "#2a3f5f",
             "gridcolor": "#C8D4E3",
             "linecolor": "#C8D4E3",
             "minorgridcolor": "#C8D4E3",
             "startlinecolor": "#2a3f5f"
            },
            "type": "carpet"
           }
          ],
          "choropleth": [
           {
            "colorbar": {
             "outlinewidth": 0,
             "ticks": ""
            },
            "type": "choropleth"
           }
          ],
          "contour": [
           {
            "colorbar": {
             "outlinewidth": 0,
             "ticks": ""
            },
            "colorscale": [
             [
              0,
              "#0d0887"
             ],
             [
              0.1111111111111111,
              "#46039f"
             ],
             [
              0.2222222222222222,
              "#7201a8"
             ],
             [
              0.3333333333333333,
              "#9c179e"
             ],
             [
              0.4444444444444444,
              "#bd3786"
             ],
             [
              0.5555555555555556,
              "#d8576b"
             ],
             [
              0.6666666666666666,
              "#ed7953"
             ],
             [
              0.7777777777777778,
              "#fb9f3a"
             ],
             [
              0.8888888888888888,
              "#fdca26"
             ],
             [
              1,
              "#f0f921"
             ]
            ],
            "type": "contour"
           }
          ],
          "contourcarpet": [
           {
            "colorbar": {
             "outlinewidth": 0,
             "ticks": ""
            },
            "type": "contourcarpet"
           }
          ],
          "heatmap": [
           {
            "colorbar": {
             "outlinewidth": 0,
             "ticks": ""
            },
            "colorscale": [
             [
              0,
              "#0d0887"
             ],
             [
              0.1111111111111111,
              "#46039f"
             ],
             [
              0.2222222222222222,
              "#7201a8"
             ],
             [
              0.3333333333333333,
              "#9c179e"
             ],
             [
              0.4444444444444444,
              "#bd3786"
             ],
             [
              0.5555555555555556,
              "#d8576b"
             ],
             [
              0.6666666666666666,
              "#ed7953"
             ],
             [
              0.7777777777777778,
              "#fb9f3a"
             ],
             [
              0.8888888888888888,
              "#fdca26"
             ],
             [
              1,
              "#f0f921"
             ]
            ],
            "type": "heatmap"
           }
          ],
          "histogram": [
           {
            "marker": {
             "pattern": {
              "fillmode": "overlay",
              "size": 10,
              "solidity": 0.2
             }
            },
            "type": "histogram"
           }
          ],
          "histogram2d": [
           {
            "colorbar": {
             "outlinewidth": 0,
             "ticks": ""
            },
            "colorscale": [
             [
              0,
              "#0d0887"
             ],
             [
              0.1111111111111111,
              "#46039f"
             ],
             [
              0.2222222222222222,
              "#7201a8"
             ],
             [
              0.3333333333333333,
              "#9c179e"
             ],
             [
              0.4444444444444444,
              "#bd3786"
             ],
             [
              0.5555555555555556,
              "#d8576b"
             ],
             [
              0.6666666666666666,
              "#ed7953"
             ],
             [
              0.7777777777777778,
              "#fb9f3a"
             ],
             [
              0.8888888888888888,
              "#fdca26"
             ],
             [
              1,
              "#f0f921"
             ]
            ],
            "type": "histogram2d"
           }
          ],
          "histogram2dcontour": [
           {
            "colorbar": {
             "outlinewidth": 0,
             "ticks": ""
            },
            "colorscale": [
             [
              0,
              "#0d0887"
             ],
             [
              0.1111111111111111,
              "#46039f"
             ],
             [
              0.2222222222222222,
              "#7201a8"
             ],
             [
              0.3333333333333333,
              "#9c179e"
             ],
             [
              0.4444444444444444,
              "#bd3786"
             ],
             [
              0.5555555555555556,
              "#d8576b"
             ],
             [
              0.6666666666666666,
              "#ed7953"
             ],
             [
              0.7777777777777778,
              "#fb9f3a"
             ],
             [
              0.8888888888888888,
              "#fdca26"
             ],
             [
              1,
              "#f0f921"
             ]
            ],
            "type": "histogram2dcontour"
           }
          ],
          "mesh3d": [
           {
            "colorbar": {
             "outlinewidth": 0,
             "ticks": ""
            },
            "type": "mesh3d"
           }
          ],
          "parcoords": [
           {
            "line": {
             "colorbar": {
              "outlinewidth": 0,
              "ticks": ""
             }
            },
            "type": "parcoords"
           }
          ],
          "pie": [
           {
            "automargin": true,
            "type": "pie"
           }
          ],
          "scatter": [
           {
            "fillpattern": {
             "fillmode": "overlay",
             "size": 10,
             "solidity": 0.2
            },
            "type": "scatter"
           }
          ],
          "scatter3d": [
           {
            "line": {
             "colorbar": {
              "outlinewidth": 0,
              "ticks": ""
             }
            },
            "marker": {
             "colorbar": {
              "outlinewidth": 0,
              "ticks": ""
             }
            },
            "type": "scatter3d"
           }
          ],
          "scattercarpet": [
           {
            "marker": {
             "colorbar": {
              "outlinewidth": 0,
              "ticks": ""
             }
            },
            "type": "scattercarpet"
           }
          ],
          "scattergeo": [
           {
            "marker": {
             "colorbar": {
              "outlinewidth": 0,
              "ticks": ""
             }
            },
            "type": "scattergeo"
           }
          ],
          "scattergl": [
           {
            "marker": {
             "colorbar": {
              "outlinewidth": 0,
              "ticks": ""
             }
            },
            "type": "scattergl"
           }
          ],
          "scattermap": [
           {
            "marker": {
             "colorbar": {
              "outlinewidth": 0,
              "ticks": ""
             }
            },
            "type": "scattermap"
           }
          ],
          "scattermapbox": [
           {
            "marker": {
             "colorbar": {
              "outlinewidth": 0,
              "ticks": ""
             }
            },
            "type": "scattermapbox"
           }
          ],
          "scatterpolar": [
           {
            "marker": {
             "colorbar": {
              "outlinewidth": 0,
              "ticks": ""
             }
            },
            "type": "scatterpolar"
           }
          ],
          "scatterpolargl": [
           {
            "marker": {
             "colorbar": {
              "outlinewidth": 0,
              "ticks": ""
             }
            },
            "type": "scatterpolargl"
           }
          ],
          "scatterternary": [
           {
            "marker": {
             "colorbar": {
              "outlinewidth": 0,
              "ticks": ""
             }
            },
            "type": "scatterternary"
           }
          ],
          "surface": [
           {
            "colorbar": {
             "outlinewidth": 0,
             "ticks": ""
            },
            "colorscale": [
             [
              0,
              "#0d0887"
             ],
             [
              0.1111111111111111,
              "#46039f"
             ],
             [
              0.2222222222222222,
              "#7201a8"
             ],
             [
              0.3333333333333333,
              "#9c179e"
             ],
             [
              0.4444444444444444,
              "#bd3786"
             ],
             [
              0.5555555555555556,
              "#d8576b"
             ],
             [
              0.6666666666666666,
              "#ed7953"
             ],
             [
              0.7777777777777778,
              "#fb9f3a"
             ],
             [
              0.8888888888888888,
              "#fdca26"
             ],
             [
              1,
              "#f0f921"
             ]
            ],
            "type": "surface"
           }
          ],
          "table": [
           {
            "cells": {
             "fill": {
              "color": "#EBF0F8"
             },
             "line": {
              "color": "white"
             }
            },
            "header": {
             "fill": {
              "color": "#C8D4E3"
             },
             "line": {
              "color": "white"
             }
            },
            "type": "table"
           }
          ]
         },
         "layout": {
          "annotationdefaults": {
           "arrowcolor": "#2a3f5f",
           "arrowhead": 0,
           "arrowwidth": 1
          },
          "autotypenumbers": "strict",
          "coloraxis": {
           "colorbar": {
            "outlinewidth": 0,
            "ticks": ""
           }
          },
          "colorscale": {
           "diverging": [
            [
             0,
             "#8e0152"
            ],
            [
             0.1,
             "#c51b7d"
            ],
            [
             0.2,
             "#de77ae"
            ],
            [
             0.3,
             "#f1b6da"
            ],
            [
             0.4,
             "#fde0ef"
            ],
            [
             0.5,
             "#f7f7f7"
            ],
            [
             0.6,
             "#e6f5d0"
            ],
            [
             0.7,
             "#b8e186"
            ],
            [
             0.8,
             "#7fbc41"
            ],
            [
             0.9,
             "#4d9221"
            ],
            [
             1,
             "#276419"
            ]
           ],
           "sequential": [
            [
             0,
             "#0d0887"
            ],
            [
             0.1111111111111111,
             "#46039f"
            ],
            [
             0.2222222222222222,
             "#7201a8"
            ],
            [
             0.3333333333333333,
             "#9c179e"
            ],
            [
             0.4444444444444444,
             "#bd3786"
            ],
            [
             0.5555555555555556,
             "#d8576b"
            ],
            [
             0.6666666666666666,
             "#ed7953"
            ],
            [
             0.7777777777777778,
             "#fb9f3a"
            ],
            [
             0.8888888888888888,
             "#fdca26"
            ],
            [
             1,
             "#f0f921"
            ]
           ],
           "sequentialminus": [
            [
             0,
             "#0d0887"
            ],
            [
             0.1111111111111111,
             "#46039f"
            ],
            [
             0.2222222222222222,
             "#7201a8"
            ],
            [
             0.3333333333333333,
             "#9c179e"
            ],
            [
             0.4444444444444444,
             "#bd3786"
            ],
            [
             0.5555555555555556,
             "#d8576b"
            ],
            [
             0.6666666666666666,
             "#ed7953"
            ],
            [
             0.7777777777777778,
             "#fb9f3a"
            ],
            [
             0.8888888888888888,
             "#fdca26"
            ],
            [
             1,
             "#f0f921"
            ]
           ]
          },
          "colorway": [
           "#636efa",
           "#EF553B",
           "#00cc96",
           "#ab63fa",
           "#FFA15A",
           "#19d3f3",
           "#FF6692",
           "#B6E880",
           "#FF97FF",
           "#FECB52"
          ],
          "font": {
           "color": "#2a3f5f"
          },
          "geo": {
           "bgcolor": "white",
           "lakecolor": "white",
           "landcolor": "white",
           "showlakes": true,
           "showland": true,
           "subunitcolor": "#C8D4E3"
          },
          "hoverlabel": {
           "align": "left"
          },
          "hovermode": "closest",
          "mapbox": {
           "style": "light"
          },
          "paper_bgcolor": "white",
          "plot_bgcolor": "white",
          "polar": {
           "angularaxis": {
            "gridcolor": "#EBF0F8",
            "linecolor": "#EBF0F8",
            "ticks": ""
           },
           "bgcolor": "white",
           "radialaxis": {
            "gridcolor": "#EBF0F8",
            "linecolor": "#EBF0F8",
            "ticks": ""
           }
          },
          "scene": {
           "xaxis": {
            "backgroundcolor": "white",
            "gridcolor": "#DFE8F3",
            "gridwidth": 2,
            "linecolor": "#EBF0F8",
            "showbackground": true,
            "ticks": "",
            "zerolinecolor": "#EBF0F8"
           },
           "yaxis": {
            "backgroundcolor": "white",
            "gridcolor": "#DFE8F3",
            "gridwidth": 2,
            "linecolor": "#EBF0F8",
            "showbackground": true,
            "ticks": "",
            "zerolinecolor": "#EBF0F8"
           },
           "zaxis": {
            "backgroundcolor": "white",
            "gridcolor": "#DFE8F3",
            "gridwidth": 2,
            "linecolor": "#EBF0F8",
            "showbackground": true,
            "ticks": "",
            "zerolinecolor": "#EBF0F8"
           }
          },
          "shapedefaults": {
           "line": {
            "color": "#2a3f5f"
           }
          },
          "ternary": {
           "aaxis": {
            "gridcolor": "#DFE8F3",
            "linecolor": "#A2B1C6",
            "ticks": ""
           },
           "baxis": {
            "gridcolor": "#DFE8F3",
            "linecolor": "#A2B1C6",
            "ticks": ""
           },
           "bgcolor": "white",
           "caxis": {
            "gridcolor": "#DFE8F3",
            "linecolor": "#A2B1C6",
            "ticks": ""
           }
          },
          "title": {
           "x": 0.05
          },
          "xaxis": {
           "automargin": true,
           "gridcolor": "#EBF0F8",
           "linecolor": "#EBF0F8",
           "ticks": "",
           "title": {
            "standoff": 15
           },
           "zerolinecolor": "#EBF0F8",
           "zerolinewidth": 2
          },
          "yaxis": {
           "automargin": true,
           "gridcolor": "#EBF0F8",
           "linecolor": "#EBF0F8",
           "ticks": "",
           "title": {
            "standoff": 15
           },
           "zerolinecolor": "#EBF0F8",
           "zerolinewidth": 2
          }
         }
        },
        "title": {
         "font": {
          "size": 16
         },
         "text": "Heatmap interactive — Données physiques bénignes"
        },
        "width": 950,
        "xaxis": {
         "anchor": "y",
         "domain": [
          0,
          1
         ],
         "title": {
          "text": "mp_distance_x"
         }
        },
        "yaxis": {
         "anchor": "x",
         "domain": [
          0,
          1
         ],
         "title": {
          "text": "mp_distance_z"
         }
        }
       }
      }
     },
     "metadata": {},
     "output_type": "display_data"
    },
    {
     "data": {
      "application/vnd.plotly.v1+json": {
       "config": {
        "plotlyServerURL": "https://plot.ly"
       },
       "data": [
        {
         "coloraxis": "coloraxis",
         "histfunc": "sum",
         "hovertemplate": "mp_distance_x=%{x}<br>mp_distance_z=%{y}<br>sum of Température=%{z}<extra></extra>",
         "name": "",
         "nbinsx": 100,
         "nbinsy": 100,
         "type": "histogram2d",
         "x": {
          "bdata": "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",
          "dtype": "i2"
         },
         "xaxis": "x",
         "xbingroup": "x",
         "y": {
          "bdata": "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",
          "dtype": "i2"
         },
         "yaxis": "y",
         "ybingroup": "y",
         "z": {
          "bdata": "Pj09Pj4+Pj4+Pj4+Pj4+Pj4/Pz8/Pz8/Pz8/Pz8/QEA/Pz8/QEA/Pz8/QEBAQEBAQEBAQEBAQEBAQEBAQEBAQEBBQUFBPz9AQEBAQUFBQUFBQUFBQUFBQUBAQUFCQkFBQUFBQkJCQkJCQkJBQUJCQkJDQ0JCQkJCQkJCQUFBQUJCQUFBQUFCQkFBQkJCQkJCQkJCQkJCQkJCQkJCQkJCQUFCQkJCQkJCQkJCQkJDQ0FBQkJCQkJCQkJCQkJCQkJCQkJCQkJCQkJCQkJCQkNDQkJDQ0JCQkJDQ0JCQ0NCQkJCQkJCQkNCQkNDQ0NDQ0NDQ0NCQkNDQ0NEREREQ0NDQ0NERENDQ0NDQ0JCQkJDQ0JCQkJCQkNDQ0NCQkJCQ0NDQ0NDQ0JCQ0NDQ0NDQkJCQkJCQ0NDQ0NDQ0NDQ0NCQkNDQ0NDQ0JCQkJDQ0NDQ0NDQkJDQ0NDQkJDQ0NDQ0NDQ0NDQ0NDQ0NCQkNDQ0NDQ0NDQ0NDQ0JCQkNDQ0NCQkNDQ0NDQ0NDQ0NDQ0NDQ0NDQ0NDQ0NDQ0NDQ0NDQ0NDQ0NDQ0NDQ0NDQkJDQ0NDQ0NDQ0NDQ0NDQ0NDQ0NDQ0NDQ0JCQ0NDQ0NDQ0NDQ0NDQ0NDQ0NDQ0NDQ0NDQ0JCQ0NDQ0NDQ0NDQ0NERENDQ0NDQ0NDQ0NERERDQ0REQ0NDQ0NDQ0NDQ0NDQ0NCQj8/Pz8/Pz8/Pz8/Pz8/Pz8/QEBAPz8/P0BAQEA/P0BAQEBAQEBAQEBAQEBAQEBAQUFBQUBAQUFBQUFBQEBBQUFBQUFBQUFBQUFBQkJBQUFBQUFCQkJBQUFBQUFCQkJCQkJCQkJCQkJCQkJCQkJCQkJCQkJCQkJCQkJCQkJCQkJCQkJCQ0NCQkNDQ0NDQ0NDNzc3Nzg4ODg4ODg5OTk5OTk5OTo6Ojo6Ojo6Ojo6Ozs7Ozs7Ozs6Ojw8Ozs8PDw8PDw8PDw9PTw8PT09PT09PT09PT09PT09PT0+Pj4+Pj4+Pj8/Pj4/Pz8/Pz8/Pz4+Pz8/Pz8/Pz8/QEBAPz8/Pz8/P0BAPz9AQEBAQD8/QEBAQEBAQEBAQEBDQkJCQkJCQ0NDQ0JCQkJCQkJDQ0JCQkJCQkNDQ0NDQ0NDQ0NDQ0NDQ0NDQkJDQ0NDQ0NDQ0NDQ0NDQ0NDQ0NDQ0NDQ0NDQkJCQkNDQ0NDQ0NDQ0NDQ0NDQ0NDQ0NDQ0NDQ0NDQ0NDQ0NEREREQ0NERERERERERERDQ0RERERDQ0NDQ0NERENDQ0JCQkJCQkJCQkJCQ0NCQkNDQ0NCQkJCQ0NDQ0NDQ0JCQw==",
          "dtype": "i1"
         }
        },
        {
         "marker": {
          "color": {
           "bdata": "Pj09Pj4+Pj4+Pj4+Pj4+Pj4/Pz8/Pz8/Pz8/Pz8/QEA/Pz8/QEA/Pz8/QEBAQEBAQEBAQEBAQEBAQEBAQEBAQEBBQUFBPz9AQEBAQUFBQUFBQUFBQUFBQUBAQUFCQkFBQUFBQkJCQkJCQkJBQUJCQkJDQ0JCQkJCQkJCQUFBQUJCQUFBQUFCQkFBQkJCQkJCQkJCQkJCQkJCQkJCQkJCQUFCQkJCQkJCQkJCQkJDQ0FBQkJCQkJCQkJCQkJCQkJCQkJCQkJCQkJCQkJCQkNDQkJDQ0JCQkJDQ0JCQ0NCQkJCQkJCQkNCQkNDQ0NDQ0NDQ0NCQkNDQ0NEREREQ0NDQ0NERENDQ0NDQ0JCQkJDQ0JCQkJCQkNDQ0NCQkJCQ0NDQ0NDQ0JCQ0NDQ0NDQkJCQkJCQ0NDQ0NDQ0NDQ0NCQkNDQ0NDQ0JCQkJDQ0NDQ0NDQkJDQ0NDQkJDQ0NDQ0NDQ0NDQ0NDQ0NCQkNDQ0NDQ0NDQ0NDQ0JCQkNDQ0NCQkNDQ0NDQ0NDQ0NDQ0NDQ0NDQ0NDQ0NDQ0NDQ0NDQ0NDQ0NDQ0NDQ0NDQkJDQ0NDQ0NDQ0NDQ0NDQ0NDQ0NDQ0NDQ0JCQ0NDQ0NDQ0NDQ0NDQ0NDQ0NDQ0NDQ0NDQ0JCQ0NDQ0NDQ0NDQ0NERENDQ0NDQ0NDQ0NERERDQ0REQ0NDQ0NDQ0NDQ0NDQ0NCQj8/Pz8/Pz8/Pz8/Pz8/Pz8/QEBAPz8/P0BAQEA/P0BAQEBAQEBAQEBAQEBAQEBAQUFBQUBAQUFBQUFBQEBBQUFBQUFBQUFBQUFBQkJBQUFBQUFCQkJBQUFBQUFCQkJCQkJCQkJCQkJCQkJCQkJCQkJCQkJCQkJCQkJCQkJCQkJCQkJCQ0NCQkNDQ0NDQ0NDNzc3Nzg4ODg4ODg5OTk5OTk5OTo6Ojo6Ojo6Ojo6Ozs7Ozs7Ozs6Ojw8Ozs8PDw8PDw8PDw9PTw8PT09PT09PT09PT09PT09PT0+Pj4+Pj4+Pj8/Pj4/Pz8/Pz8/Pz4+Pz8/Pz8/Pz8/QEBAPz8/Pz8/P0BAPz9AQEBAQD8/QEBAQEBAQEBAQEBDQkJCQkJCQ0NDQ0JCQkJCQkJDQ0JCQkJCQkNDQ0NDQ0NDQ0NDQ0NDQ0NDQkJDQ0NDQ0NDQ0NDQ0NDQ0NDQ0NDQ0NDQ0NDQkJCQkNDQ0NDQ0NDQ0NDQ0NDQ0NDQ0NDQ0NDQ0NDQ0NDQ0NEREREQ0NERERERERERERDQ0RERERDQ0NDQ0NERENDQ0JCQkJCQkJCQkJCQ0NCQkNDQ0NCQkJCQ0NDQ0NDQ0JCQw==",
           "dtype": "i1"
          },
          "colorbar": {
           "title": {
            "text": "Température"
           }
          },
          "colorscale": [
           [
            0,
            "#0d0887"
           ],
           [
            0.1111111111111111,
            "#46039f"
           ],
           [
            0.2222222222222222,
            "#7201a8"
           ],
           [
            0.3333333333333333,
            "#9c179e"
           ],
           [
            0.4444444444444444,
            "#bd3786"
           ],
           [
            0.5555555555555556,
            "#d8576b"
           ],
           [
            0.6666666666666666,
            "#ed7953"
           ],
           [
            0.7777777777777778,
            "#fb9f3a"
           ],
           [
            0.8888888888888888,
            "#fdca26"
           ],
           [
            1,
            "#f0f921"
           ]
          ],
          "opacity": 0.6,
          "size": 5
         },
         "mode": "markers",
         "name": "Mesures réelles",
         "type": "scatter",
         "x": {
          "bdata": "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",
          "dtype": "i2"
         },
         "y": {
          "bdata": "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",
          "dtype": "i2"
         }
        }
       ],
       "layout": {
        "coloraxis": {
         "colorbar": {
          "title": {
           "text": "sum of Température"
          }
         },
         "colorscale": [
          [
           0,
           "#0d0887"
          ],
          [
           0.1111111111111111,
           "#46039f"
          ],
          [
           0.2222222222222222,
           "#7201a8"
          ],
          [
           0.3333333333333333,
           "#9c179e"
          ],
          [
           0.4444444444444444,
           "#bd3786"
          ],
          [
           0.5555555555555556,
           "#d8576b"
          ],
          [
           0.6666666666666666,
           "#ed7953"
          ],
          [
           0.7777777777777778,
           "#fb9f3a"
          ],
          [
           0.8888888888888888,
           "#fdca26"
          ],
          [
           1,
           "#f0f921"
          ]
         ]
        },
        "height": 750,
        "legend": {
         "tracegroupgap": 0
        },
        "template": {
         "data": {
          "bar": [
           {
            "error_x": {
             "color": "#2a3f5f"
            },
            "error_y": {
             "color": "#2a3f5f"
            },
            "marker": {
             "line": {
              "color": "white",
              "width": 0.5
             },
             "pattern": {
              "fillmode": "overlay",
              "size": 10,
              "solidity": 0.2
             }
            },
            "type": "bar"
           }
          ],
          "barpolar": [
           {
            "marker": {
             "line": {
              "color": "white",
              "width": 0.5
             },
             "pattern": {
              "fillmode": "overlay",
              "size": 10,
              "solidity": 0.2
             }
            },
            "type": "barpolar"
           }
          ],
          "carpet": [
           {
            "aaxis": {
             "endlinecolor": "#2a3f5f",
             "gridcolor": "#C8D4E3",
             "linecolor": "#C8D4E3",
             "minorgridcolor": "#C8D4E3",
             "startlinecolor": "#2a3f5f"
            },
            "baxis": {
             "endlinecolor": "#2a3f5f",
             "gridcolor": "#C8D4E3",
             "linecolor": "#C8D4E3",
             "minorgridcolor": "#C8D4E3",
             "startlinecolor": "#2a3f5f"
            },
            "type": "carpet"
           }
          ],
          "choropleth": [
           {
            "colorbar": {
             "outlinewidth": 0,
             "ticks": ""
            },
            "type": "choropleth"
           }
          ],
          "contour": [
           {
            "colorbar": {
             "outlinewidth": 0,
             "ticks": ""
            },
            "colorscale": [
             [
              0,
              "#0d0887"
             ],
             [
              0.1111111111111111,
              "#46039f"
             ],
             [
              0.2222222222222222,
              "#7201a8"
             ],
             [
              0.3333333333333333,
              "#9c179e"
             ],
             [
              0.4444444444444444,
              "#bd3786"
             ],
             [
              0.5555555555555556,
              "#d8576b"
             ],
             [
              0.6666666666666666,
              "#ed7953"
             ],
             [
              0.7777777777777778,
              "#fb9f3a"
             ],
             [
              0.8888888888888888,
              "#fdca26"
             ],
             [
              1,
              "#f0f921"
             ]
            ],
            "type": "contour"
           }
          ],
          "contourcarpet": [
           {
            "colorbar": {
             "outlinewidth": 0,
             "ticks": ""
            },
            "type": "contourcarpet"
           }
          ],
          "heatmap": [
           {
            "colorbar": {
             "outlinewidth": 0,
             "ticks": ""
            },
            "colorscale": [
             [
              0,
              "#0d0887"
             ],
             [
              0.1111111111111111,
              "#46039f"
             ],
             [
              0.2222222222222222,
              "#7201a8"
             ],
             [
              0.3333333333333333,
              "#9c179e"
             ],
             [
              0.4444444444444444,
              "#bd3786"
             ],
             [
              0.5555555555555556,
              "#d8576b"
             ],
             [
              0.6666666666666666,
              "#ed7953"
             ],
             [
              0.7777777777777778,
              "#fb9f3a"
             ],
             [
              0.8888888888888888,
              "#fdca26"
             ],
             [
              1,
              "#f0f921"
             ]
            ],
            "type": "heatmap"
           }
          ],
          "histogram": [
           {
            "marker": {
             "pattern": {
              "fillmode": "overlay",
              "size": 10,
              "solidity": 0.2
             }
            },
            "type": "histogram"
           }
          ],
          "histogram2d": [
           {
            "colorbar": {
             "outlinewidth": 0,
             "ticks": ""
            },
            "colorscale": [
             [
              0,
              "#0d0887"
             ],
             [
              0.1111111111111111,
              "#46039f"
             ],
             [
              0.2222222222222222,
              "#7201a8"
             ],
             [
              0.3333333333333333,
              "#9c179e"
             ],
             [
              0.4444444444444444,
              "#bd3786"
             ],
             [
              0.5555555555555556,
              "#d8576b"
             ],
             [
              0.6666666666666666,
              "#ed7953"
             ],
             [
              0.7777777777777778,
              "#fb9f3a"
             ],
             [
              0.8888888888888888,
              "#fdca26"
             ],
             [
              1,
              "#f0f921"
             ]
            ],
            "type": "histogram2d"
           }
          ],
          "histogram2dcontour": [
           {
            "colorbar": {
             "outlinewidth": 0,
             "ticks": ""
            },
            "colorscale": [
             [
              0,
              "#0d0887"
             ],
             [
              0.1111111111111111,
              "#46039f"
             ],
             [
              0.2222222222222222,
              "#7201a8"
             ],
             [
              0.3333333333333333,
              "#9c179e"
             ],
             [
              0.4444444444444444,
              "#bd3786"
             ],
             [
              0.5555555555555556,
              "#d8576b"
             ],
             [
              0.6666666666666666,
              "#ed7953"
             ],
             [
              0.7777777777777778,
              "#fb9f3a"
             ],
             [
              0.8888888888888888,
              "#fdca26"
             ],
             [
              1,
              "#f0f921"
             ]
            ],
            "type": "histogram2dcontour"
           }
          ],
          "mesh3d": [
           {
            "colorbar": {
             "outlinewidth": 0,
             "ticks": ""
            },
            "type": "mesh3d"
           }
          ],
          "parcoords": [
           {
            "line": {
             "colorbar": {
              "outlinewidth": 0,
              "ticks": ""
             }
            },
            "type": "parcoords"
           }
          ],
          "pie": [
           {
            "automargin": true,
            "type": "pie"
           }
          ],
          "scatter": [
           {
            "fillpattern": {
             "fillmode": "overlay",
             "size": 10,
             "solidity": 0.2
            },
            "type": "scatter"
           }
          ],
          "scatter3d": [
           {
            "line": {
             "colorbar": {
              "outlinewidth": 0,
              "ticks": ""
             }
            },
            "marker": {
             "colorbar": {
              "outlinewidth": 0,
              "ticks": ""
             }
            },
            "type": "scatter3d"
           }
          ],
          "scattercarpet": [
           {
            "marker": {
             "colorbar": {
              "outlinewidth": 0,
              "ticks": ""
             }
            },
            "type": "scattercarpet"
           }
          ],
          "scattergeo": [
           {
            "marker": {
             "colorbar": {
              "outlinewidth": 0,
              "ticks": ""
             }
            },
            "type": "scattergeo"
           }
          ],
          "scattergl": [
           {
            "marker": {
             "colorbar": {
              "outlinewidth": 0,
              "ticks": ""
             }
            },
            "type": "scattergl"
           }
          ],
          "scattermap": [
           {
            "marker": {
             "colorbar": {
              "outlinewidth": 0,
              "ticks": ""
             }
            },
            "type": "scattermap"
           }
          ],
          "scattermapbox": [
           {
            "marker": {
             "colorbar": {
              "outlinewidth": 0,
              "ticks": ""
             }
            },
            "type": "scattermapbox"
           }
          ],
          "scatterpolar": [
           {
            "marker": {
             "colorbar": {
              "outlinewidth": 0,
              "ticks": ""
             }
            },
            "type": "scatterpolar"
           }
          ],
          "scatterpolargl": [
           {
            "marker": {
             "colorbar": {
              "outlinewidth": 0,
              "ticks": ""
             }
            },
            "type": "scatterpolargl"
           }
          ],
          "scatterternary": [
           {
            "marker": {
             "colorbar": {
              "outlinewidth": 0,
              "ticks": ""
             }
            },
            "type": "scatterternary"
           }
          ],
          "surface": [
           {
            "colorbar": {
             "outlinewidth": 0,
             "ticks": ""
            },
            "colorscale": [
             [
              0,
              "#0d0887"
             ],
             [
              0.1111111111111111,
              "#46039f"
             ],
             [
              0.2222222222222222,
              "#7201a8"
             ],
             [
              0.3333333333333333,
              "#9c179e"
             ],
             [
              0.4444444444444444,
              "#bd3786"
             ],
             [
              0.5555555555555556,
              "#d8576b"
             ],
             [
              0.6666666666666666,
              "#ed7953"
             ],
             [
              0.7777777777777778,
              "#fb9f3a"
             ],
             [
              0.8888888888888888,
              "#fdca26"
             ],
             [
              1,
              "#f0f921"
             ]
            ],
            "type": "surface"
           }
          ],
          "table": [
           {
            "cells": {
             "fill": {
              "color": "#EBF0F8"
             },
             "line": {
              "color": "white"
             }
            },
            "header": {
             "fill": {
              "color": "#C8D4E3"
             },
             "line": {
              "color": "white"
             }
            },
            "type": "table"
           }
          ]
         },
         "layout": {
          "annotationdefaults": {
           "arrowcolor": "#2a3f5f",
           "arrowhead": 0,
           "arrowwidth": 1
          },
          "autotypenumbers": "strict",
          "coloraxis": {
           "colorbar": {
            "outlinewidth": 0,
            "ticks": ""
           }
          },
          "colorscale": {
           "diverging": [
            [
             0,
             "#8e0152"
            ],
            [
             0.1,
             "#c51b7d"
            ],
            [
             0.2,
             "#de77ae"
            ],
            [
             0.3,
             "#f1b6da"
            ],
            [
             0.4,
             "#fde0ef"
            ],
            [
             0.5,
             "#f7f7f7"
            ],
            [
             0.6,
             "#e6f5d0"
            ],
            [
             0.7,
             "#b8e186"
            ],
            [
             0.8,
             "#7fbc41"
            ],
            [
             0.9,
             "#4d9221"
            ],
            [
             1,
             "#276419"
            ]
           ],
           "sequential": [
            [
             0,
             "#0d0887"
            ],
            [
             0.1111111111111111,
             "#46039f"
            ],
            [
             0.2222222222222222,
             "#7201a8"
            ],
            [
             0.3333333333333333,
             "#9c179e"
            ],
            [
             0.4444444444444444,
             "#bd3786"
            ],
            [
             0.5555555555555556,
             "#d8576b"
            ],
            [
             0.6666666666666666,
             "#ed7953"
            ],
            [
             0.7777777777777778,
             "#fb9f3a"
            ],
            [
             0.8888888888888888,
             "#fdca26"
            ],
            [
             1,
             "#f0f921"
            ]
           ],
           "sequentialminus": [
            [
             0,
             "#0d0887"
            ],
            [
             0.1111111111111111,
             "#46039f"
            ],
            [
             0.2222222222222222,
             "#7201a8"
            ],
            [
             0.3333333333333333,
             "#9c179e"
            ],
            [
             0.4444444444444444,
             "#bd3786"
            ],
            [
             0.5555555555555556,
             "#d8576b"
            ],
            [
             0.6666666666666666,
             "#ed7953"
            ],
            [
             0.7777777777777778,
             "#fb9f3a"
            ],
            [
             0.8888888888888888,
             "#fdca26"
            ],
            [
             1,
             "#f0f921"
            ]
           ]
          },
          "colorway": [
           "#636efa",
           "#EF553B",
           "#00cc96",
           "#ab63fa",
           "#FFA15A",
           "#19d3f3",
           "#FF6692",
           "#B6E880",
           "#FF97FF",
           "#FECB52"
          ],
          "font": {
           "color": "#2a3f5f"
          },
          "geo": {
           "bgcolor": "white",
           "lakecolor": "white",
           "landcolor": "white",
           "showlakes": true,
           "showland": true,
           "subunitcolor": "#C8D4E3"
          },
          "hoverlabel": {
           "align": "left"
          },
          "hovermode": "closest",
          "mapbox": {
           "style": "light"
          },
          "paper_bgcolor": "white",
          "plot_bgcolor": "white",
          "polar": {
           "angularaxis": {
            "gridcolor": "#EBF0F8",
            "linecolor": "#EBF0F8",
            "ticks": ""
           },
           "bgcolor": "white",
           "radialaxis": {
            "gridcolor": "#EBF0F8",
            "linecolor": "#EBF0F8",
            "ticks": ""
           }
          },
          "scene": {
           "xaxis": {
            "backgroundcolor": "white",
            "gridcolor": "#DFE8F3",
            "gridwidth": 2,
            "linecolor": "#EBF0F8",
            "showbackground": true,
            "ticks": "",
            "zerolinecolor": "#EBF0F8"
           },
           "yaxis": {
            "backgroundcolor": "white",
            "gridcolor": "#DFE8F3",
            "gridwidth": 2,
            "linecolor": "#EBF0F8",
            "showbackground": true,
            "ticks": "",
            "zerolinecolor": "#EBF0F8"
           },
           "zaxis": {
            "backgroundcolor": "white",
            "gridcolor": "#DFE8F3",
            "gridwidth": 2,
            "linecolor": "#EBF0F8",
            "showbackground": true,
            "ticks": "",
            "zerolinecolor": "#EBF0F8"
           }
          },
          "shapedefaults": {
           "line": {
            "color": "#2a3f5f"
           }
          },
          "ternary": {
           "aaxis": {
            "gridcolor": "#DFE8F3",
            "linecolor": "#A2B1C6",
            "ticks": ""
           },
           "baxis": {
            "gridcolor": "#DFE8F3",
            "linecolor": "#A2B1C6",
            "ticks": ""
           },
           "bgcolor": "white",
           "caxis": {
            "gridcolor": "#DFE8F3",
            "linecolor": "#A2B1C6",
            "ticks": ""
           }
          },
          "title": {
           "x": 0.05
          },
          "xaxis": {
           "automargin": true,
           "gridcolor": "#EBF0F8",
           "linecolor": "#EBF0F8",
           "ticks": "",
           "title": {
            "standoff": 15
           },
           "zerolinecolor": "#EBF0F8",
           "zerolinewidth": 2
          },
          "yaxis": {
           "automargin": true,
           "gridcolor": "#EBF0F8",
           "linecolor": "#EBF0F8",
           "ticks": "",
           "title": {
            "standoff": 15
           },
           "zerolinecolor": "#EBF0F8",
           "zerolinewidth": 2
          }
         }
        },
        "title": {
         "font": {
          "size": 16
         },
         "text": "Heatmap interactive — Données physiques DoS Attack"
        },
        "width": 950,
        "xaxis": {
         "anchor": "y",
         "domain": [
          0,
          1
         ],
         "title": {
          "text": "mp_distance_x"
         }
        },
        "yaxis": {
         "anchor": "x",
         "domain": [
          0,
          1
         ],
         "title": {
          "text": "mp_distance_z"
         }
        }
       }
      }
     },
     "metadata": {},
     "output_type": "display_data"
    },
    {
     "data": {
      "application/vnd.plotly.v1+json": {
       "config": {
        "plotlyServerURL": "https://plot.ly"
       },
       "data": [
        {
         "coloraxis": "coloraxis",
         "histfunc": "sum",
         "hovertemplate": "mp_distance_x=%{x}<br>mp_distance_z=%{y}<br>sum of Température=%{z}<extra></extra>",
         "name": "",
         "nbinsx": 100,
         "nbinsy": 100,
         "type": "histogram2d",
         "x": {
          "bdata": "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",
          "dtype": "i2"
         },
         "xaxis": "x",
         "xbingroup": "x",
         "y": {
          "bdata": "TwBRAFEAUABRAFMAUgBRAFEAUQBSAFMAUwBTAFgAUgBVAFUAUwBSAFAAUABRAFEAUgBRAE8ATwBRAFEAUQBRAFEAUQBRAFAAUABQAE8AUABRAFIAUQBRAFAAUABKAEoATwBGAEYARgBGAEYAUwBTAFEAUgBRAFEATwBMAEwATABMAEwATABOAE4ATgBSAFIAUwBQAE8ATwAtAC0ALQBPAFMAUQBPAFAAUgBSAFEAUQBQAFIAUgA4/zj/OP84/zj/OP9UAFMAUwBTAFMAVABUAFQAVABTAFIAUABVAFQATgBcAFYAUwBPAFIAUgBRAFMAUgBSAFIAUgBTAE4ASgBPAFAAUQBRAFIAUgBTAFMAUwBUAFUAUgBWAFAAWABXAFYAVQBTAFIAUwBTAFMAUwBOAFIAUwBUAFQAVABUAE0ATQBQAFAAUgBRAFEAUwBSAFAAUABQAFMAUwBTAFMAUwBUAFQATgBOAEMAUgBRAFAAUgBSAFIAUgBTAFMAVABTAFUAVABUAFUAOP84/zj/OP84/zj/OP84/zj/OP84/zj/OP84/zj/OP84/zj/OP84/1kAWABXAFUAUwBSAFEAUQBTAFIAUgBSAFIAUQBSAFIAVABXAFcAVQBUAFMAVABTAFMAWgBaAFoAWgBaAEwATgBOAFAAUgBSAFEAUQBSAFEAUQBSAFIAUQBRAFEAUQBQAFEAUABNAFAAVwBXAEsASABTAFEAUgBSAFMAUwBUAFQAVABSAFMAUgBUAFQAVABUAFQAVQBNAFIAUgBTAFIAUgBUAFMAVQBUAFQAVABUAFQAVABUAFQAnP+c/5z/nP+c/5z/nP+c/5z/nP+c/5z/nP+c/5z/nP+c/1YAVgBWAFUAVABVAFUAVABTAFMAUgBTAFMAUwBTAFQAVABUAFUAVgBVAFYAQQBUAFMAUQBRAFAAUQBTAFMAUgBSAFIAUQBQAFAAUQBRAFIATwBOAE8AUABUAEoAUgBQAE8ATwBPAE8ATgBOAE8AWwBbAFsATwBOAE4AUgBSAFIAUgBSAFIAUgBVAFQAVQBUAFQAVQBWAFUAVQBUAFQAVgBUAFYAVgBSAFIATQBSAFMAUgBSAFMAVABVAFUAUQBRAFUAVABUAFMAUgBRAFEAUgBRAFEATwBOAE0ATwBRAFAAUABQAFAATwBPAE8AUABPAFEAUABRAFEAUQBRAFEAUgBSAFIAUQBQAE8ATQBPAE0ATQBNAFcAVwBXAFcAVgBWAFYAVgBUAFQAVABTAFMAUwBSAFMAUgBSAFQAVQBUAFkAUwBVAFMAUQBSAFIAUwBTAFMAVABTAFQAUwBTAFEATgBMAE8AUgBSAFEAUgBTAFMAUwBSAFMAVABTAFMAUQBSAFUAUwBTAFIAUgBSAFAAUABRAFEAUQBRAFEAUQBRAFIAUwBTAFAATABQAFEAUABRAFEAUQBQAFEATgBPAFMAUgBSAFQAVABUAFUAVABTAFQAVABTAFEATwBIAFEATABRAE8ATwBSAFMAUwBTAFMAUgBSAFMAVABVAFQAUgA4/zj/OP84/zj/OP84/zj/OP84/zj/OP84/zj/OP84/zj/OP9VAFUAVABTAFMAUwBTAFQAVABTAFQAUwBSAFIAUgBVAFQAVABTAFIAVQBTAFMAUgBRAFEAUgBSAFIAUgBSAFIAUgBSAFEAUABQAFEAUABRAFEAUQBOAE4ATwBQAFIAUQBRAFIAUQBQAEwASgBQAFYAUgBSAFYAUQBRAFEAUABQAE8ATgBPAE8AUQBUAFUATwBMAE4ASwBJAEsASwBLAE0ATwBOAE4AUwBfAGcAcQB2AG4AXwBXAE0ATABMAFAAUABQAE0ATgBQAFAAUQBOAFcAWgBaAFoAWgBaAFoAWgBaAFoAWgBaAFoAWgBaAFoAWgBVAFUAVQBVAFQAUwBTAFMAUwBUAFUAVQBVAFUAVQBUAFIAVABUAFUAVABTAFIAUgBTAFQATgBUAFEAUQBRAFEAUgBSAFIAUgBTAFEAUwBUAFIAUgBSAFAAUgBSAFIAUgBSAFIAUgBRAFMAVQBVAFYAVgBTAFYAUgBTAFQAUgBUAFEAUQBRAFEAUQBRAFEAUQBRAFEAUQBRAFEAUQBRAFEAWQBYAFYAVQBVAFQAVABUAFQAVABUAFMAVABVAFYAVgBVAFUAVwBWAFUAVABRAFQAUwBSAFMAUwBSAFEAUgBSAFQAVQBUAFMAVABTAFMAUwBSAFEATgBRAFEAUgBTAFIAUQBSAFMAVABVAF0AZgBqAG8AagBgAFoAVABPAFAAUABRAFIAUQBRAE8AUQBVAFUAVQBUAFIAUQBRAFEAUQBSAFIAUQBRAFAAUQBSAE8ATwBPAE8AWQBZAFgAWABXAFUAVQBTAFMAVABVAFUAVgBWAFUAWQBaAFcAUwBSAFMAUgBSAFIAUQBRAFEAUQBQAEwATQA6AFAAUwBWAFQAUgBRAFEAUABRAFAATgBNAFIATwBOAFAAUABQAE8ATQBOAFAAUgBVAFEAUQBRAFEAUQBRAFEAUQBRAJz/nP+c/5z/nP+c/5z/nP+c/5z/nP+c/5z/nP+c/5z/nP+c/5z/nP+c/5z/nP8=",
          "dtype": "i2"
         },
         "yaxis": "y",
         "ybingroup": "y",
         "z": {
          "bdata": "Q0NDQ0NDQ0NDQ0NDQ0NDQkJDRERDQ0JCQkJDQ0NDQ0NDQ0NDQ0NCQkJDQ0NDRERDQ0NDQ0NDQ0NDQ0NERERERENDRERERENDQ0NDQ0NDRERERENERENDRERERENDQ0NDQ0FAQEBAQEBAQEBBQUFBQUFBQUFBQEBBQUFBQUFBQUFBQUFBQUFBQUFBQkJBQUJCQkJBQUFCQkJCQkJBQUFCQkJCQkJCQkJCQkJBQUNDQkJCQkJCQkJDQ0NDQkJCQkJCQkJCQkJCQkJCQ0NCQkJCQkJBQUJCQkJAQEBAQUFAQEFBQUFBQUFBQUFBQUFBQUFBQUJCQUJCQkJBQUJCQkJBQUJCQkJCQkJCQkJDQ0JCQkJCQkJCQkJCQ0NDQ0JCQkJDQ0JCQ0NDQ0NDQ0NDQ0NDQ0NDQ0NDQ0NDQ0NDQ0NDQ0NDQ0NFRUVGRUVFRUVFRUVFRURERUVFRUVFRUVFRUVFRUVFRUVFRUVFRUVFRUVFRUVFRUVFRURERUVEREVFRERFRUVFREZGRkZFRUZGRUVGRkZGRkVFRkZGRkVFRUVFRUZGRkZFRUVFRUVFRUVFRUVFRUVFRUZGRUVFRUVFRkZFRUVFRUVFRkZFRUZGRUU9PT09PT08PD4+Pj4+Pj4+PT0+Pj4/Pz4+Pj4/Pz4+Pz8/Pz8/Pj4/Pz8/Pz8/QEA/Pz8/Pz8/P0BAQEBAQD8/QEBAQEFBQUFBQUFAQEFBQUFBQUFBQUFAQEFBQkJBQUFBQUFBQUFBQUFBQkJCQkJCQkJCQkJCQkJBQUFBQUFBQkJCQkFBQUNDRERDQ0REQ0NDQ0RERERDQ0NDRERERENDREREQ0NDQ0NDQ0NDQ0RERERDQ0RERERDQ0RERERERERERERDRERERERERERERERERERERERERERERERERERERERERERERUVERENDQ0NERERERERERERERERERERERD9AQEBAQEBAQEBAQEFBQEBAQEBAQEBBQUBAQEBBQUFBQUFBQUFBQkJCQkJBQUFBQUFBQUJCQUFCQkJCQkJCQkJCQkJCQkJCQkJCQkJCQkJCQUFBQkJCQkFBQUFCQkJCQkJCQUFCQkNDQkJCQkJCQ0NCQkJCQkJCQkNDQkNDQkJCQkNDQ0NDQ0JCQ0NCQkNDQ0NDQ0NDQkJDQ0NDQ0NDQ0NDQ0NDQ0NDQ0RERUVFRUVFRUVFRUVERUVFRUVFRERFRUVFRERERERERUVERERERERFRUVERERERUVERERERERERERERERERERERERFRUVFRUVFRURFRUREREREREVFRERFRQ==",
          "dtype": "i1"
         }
        },
        {
         "marker": {
          "color": {
           "bdata": "Q0NDQ0NDQ0NDQ0NDQ0NDQkJDRERDQ0JCQkJDQ0NDQ0NDQ0NDQ0NCQkJDQ0NDRERDQ0NDQ0NDQ0NDQ0NERERERENDRERERENDQ0NDQ0NDRERERENERENDRERERENDQ0NDQ0FAQEBAQEBAQEBBQUFBQUFBQUFBQEBBQUFBQUFBQUFBQUFBQUFBQUFBQkJBQUJCQkJBQUFCQkJCQkJBQUFCQkJCQkJCQkJCQkJBQUNDQkJCQkJCQkJDQ0NDQkJCQkJCQkJCQkJCQkJCQ0NCQkJCQkJBQUJCQkJAQEBAQUFAQEFBQUFBQUFBQUFBQUFBQUFBQUJCQUJCQkJBQUJCQkJBQUJCQkJCQkJCQkJDQ0JCQkJCQkJCQkJCQ0NDQ0JCQkJDQ0JCQ0NDQ0NDQ0NDQ0NDQ0NDQ0NDQ0NDQ0NDQ0NDQ0NDQ0NFRUVGRUVFRUVFRUVFRURERUVFRUVFRUVFRUVFRUVFRUVFRUVFRUVFRUVFRUVFRUVFRURERUVEREVFRERFRUVFREZGRkZFRUZGRUVGRkZGRkVFRkZGRkVFRUVFRUZGRkZFRUVFRUVFRUVFRUVFRUVFRUZGRUVFRUVFRkZFRUVFRUVFRkZFRUZGRUU9PT09PT08PD4+Pj4+Pj4+PT0+Pj4/Pz4+Pj4/Pz4+Pz8/Pz8/Pj4/Pz8/Pz8/QEA/Pz8/Pz8/P0BAQEBAQD8/QEBAQEFBQUFBQUFAQEFBQUFBQUFBQUFAQEFBQkJBQUFBQUFBQUFBQUFBQkJCQkJCQkJCQkJCQkJBQUFBQUFBQkJCQkFBQUNDRERDQ0REQ0NDQ0RERERDQ0NDRERERENDREREQ0NDQ0NDQ0NDQ0RERERDQ0RERERDQ0RERERERERERERDRERERERERERERERERERERERERERERERERERERERERERERUVERENDQ0NERERERERERERERERERERERD9AQEBAQEBAQEBAQEFBQEBAQEBAQEBBQUBAQEBBQUFBQUFBQUFBQkJCQkJBQUFBQUFBQUJCQUFCQkJCQkJCQkJCQkJCQkJCQkJCQkJCQkJCQUFBQkJCQkFBQUFCQkJCQkJCQUFCQkNDQkJCQkJCQ0NCQkJCQkJCQkNDQkNDQkJCQkNDQ0NDQ0JCQ0NCQkNDQ0NDQ0NDQkJDQ0NDQ0NDQ0NDQ0NDQ0NDQ0RERUVFRUVFRUVFRUVERUVFRUVFRERFRUVFRERERERERUVERERERERFRUVERERERUVERERERERERERERERERERERERFRUVFRUVFRURFRUREREREREVFRERFRQ==",
           "dtype": "i1"
          },
          "colorbar": {
           "title": {
            "text": "Température"
           }
          },
          "colorscale": [
           [
            0,
            "#0d0887"
           ],
           [
            0.1111111111111111,
            "#46039f"
           ],
           [
            0.2222222222222222,
            "#7201a8"
           ],
           [
            0.3333333333333333,
            "#9c179e"
           ],
           [
            0.4444444444444444,
            "#bd3786"
           ],
           [
            0.5555555555555556,
            "#d8576b"
           ],
           [
            0.6666666666666666,
            "#ed7953"
           ],
           [
            0.7777777777777778,
            "#fb9f3a"
           ],
           [
            0.8888888888888888,
            "#fdca26"
           ],
           [
            1,
            "#f0f921"
           ]
          ],
          "opacity": 0.6,
          "size": 5
         },
         "mode": "markers",
         "name": "Mesures réelles",
         "type": "scatter",
         "x": {
          "bdata": "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",
          "dtype": "i2"
         },
         "y": {
          "bdata": "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",
          "dtype": "i2"
         }
        }
       ],
       "layout": {
        "coloraxis": {
         "colorbar": {
          "title": {
           "text": "sum of Température"
          }
         },
         "colorscale": [
          [
           0,
           "#0d0887"
          ],
          [
           0.1111111111111111,
           "#46039f"
          ],
          [
           0.2222222222222222,
           "#7201a8"
          ],
          [
           0.3333333333333333,
           "#9c179e"
          ],
          [
           0.4444444444444444,
           "#bd3786"
          ],
          [
           0.5555555555555556,
           "#d8576b"
          ],
          [
           0.6666666666666666,
           "#ed7953"
          ],
          [
           0.7777777777777778,
           "#fb9f3a"
          ],
          [
           0.8888888888888888,
           "#fdca26"
          ],
          [
           1,
           "#f0f921"
          ]
         ]
        },
        "height": 750,
        "legend": {
         "tracegroupgap": 0
        },
        "template": {
         "data": {
          "bar": [
           {
            "error_x": {
             "color": "#2a3f5f"
            },
            "error_y": {
             "color": "#2a3f5f"
            },
            "marker": {
             "line": {
              "color": "white",
              "width": 0.5
             },
             "pattern": {
              "fillmode": "overlay",
              "size": 10,
              "solidity": 0.2
             }
            },
            "type": "bar"
           }
          ],
          "barpolar": [
           {
            "marker": {
             "line": {
              "color": "white",
              "width": 0.5
             },
             "pattern": {
              "fillmode": "overlay",
              "size": 10,
              "solidity": 0.2
             }
            },
            "type": "barpolar"
           }
          ],
          "carpet": [
           {
            "aaxis": {
             "endlinecolor": "#2a3f5f",
             "gridcolor": "#C8D4E3",
             "linecolor": "#C8D4E3",
             "minorgridcolor": "#C8D4E3",
             "startlinecolor": "#2a3f5f"
            },
            "baxis": {
             "endlinecolor": "#2a3f5f",
             "gridcolor": "#C8D4E3",
             "linecolor": "#C8D4E3",
             "minorgridcolor": "#C8D4E3",
             "startlinecolor": "#2a3f5f"
            },
            "type": "carpet"
           }
          ],
          "choropleth": [
           {
            "colorbar": {
             "outlinewidth": 0,
             "ticks": ""
            },
            "type": "choropleth"
           }
          ],
          "contour": [
           {
            "colorbar": {
             "outlinewidth": 0,
             "ticks": ""
            },
            "colorscale": [
             [
              0,
              "#0d0887"
             ],
             [
              0.1111111111111111,
              "#46039f"
             ],
             [
              0.2222222222222222,
              "#7201a8"
             ],
             [
              0.3333333333333333,
              "#9c179e"
             ],
             [
              0.4444444444444444,
              "#bd3786"
             ],
             [
              0.5555555555555556,
              "#d8576b"
             ],
             [
              0.6666666666666666,
              "#ed7953"
             ],
             [
              0.7777777777777778,
              "#fb9f3a"
             ],
             [
              0.8888888888888888,
              "#fdca26"
             ],
             [
              1,
              "#f0f921"
             ]
            ],
            "type": "contour"
           }
          ],
          "contourcarpet": [
           {
            "colorbar": {
             "outlinewidth": 0,
             "ticks": ""
            },
            "type": "contourcarpet"
           }
          ],
          "heatmap": [
           {
            "colorbar": {
             "outlinewidth": 0,
             "ticks": ""
            },
            "colorscale": [
             [
              0,
              "#0d0887"
             ],
             [
              0.1111111111111111,
              "#46039f"
             ],
             [
              0.2222222222222222,
              "#7201a8"
             ],
             [
              0.3333333333333333,
              "#9c179e"
             ],
             [
              0.4444444444444444,
              "#bd3786"
             ],
             [
              0.5555555555555556,
              "#d8576b"
             ],
             [
              0.6666666666666666,
              "#ed7953"
             ],
             [
              0.7777777777777778,
              "#fb9f3a"
             ],
             [
              0.8888888888888888,
              "#fdca26"
             ],
             [
              1,
              "#f0f921"
             ]
            ],
            "type": "heatmap"
           }
          ],
          "histogram": [
           {
            "marker": {
             "pattern": {
              "fillmode": "overlay",
              "size": 10,
              "solidity": 0.2
             }
            },
            "type": "histogram"
           }
          ],
          "histogram2d": [
           {
            "colorbar": {
             "outlinewidth": 0,
             "ticks": ""
            },
            "colorscale": [
             [
              0,
              "#0d0887"
             ],
             [
              0.1111111111111111,
              "#46039f"
             ],
             [
              0.2222222222222222,
              "#7201a8"
             ],
             [
              0.3333333333333333,
              "#9c179e"
             ],
             [
              0.4444444444444444,
              "#bd3786"
             ],
             [
              0.5555555555555556,
              "#d8576b"
             ],
             [
              0.6666666666666666,
              "#ed7953"
             ],
             [
              0.7777777777777778,
              "#fb9f3a"
             ],
             [
              0.8888888888888888,
              "#fdca26"
             ],
             [
              1,
              "#f0f921"
             ]
            ],
            "type": "histogram2d"
           }
          ],
          "histogram2dcontour": [
           {
            "colorbar": {
             "outlinewidth": 0,
             "ticks": ""
            },
            "colorscale": [
             [
              0,
              "#0d0887"
             ],
             [
              0.1111111111111111,
              "#46039f"
             ],
             [
              0.2222222222222222,
              "#7201a8"
             ],
             [
              0.3333333333333333,
              "#9c179e"
             ],
             [
              0.4444444444444444,
              "#bd3786"
             ],
             [
              0.5555555555555556,
              "#d8576b"
             ],
             [
              0.6666666666666666,
              "#ed7953"
             ],
             [
              0.7777777777777778,
              "#fb9f3a"
             ],
             [
              0.8888888888888888,
              "#fdca26"
             ],
             [
              1,
              "#f0f921"
             ]
            ],
            "type": "histogram2dcontour"
           }
          ],
          "mesh3d": [
           {
            "colorbar": {
             "outlinewidth": 0,
             "ticks": ""
            },
            "type": "mesh3d"
           }
          ],
          "parcoords": [
           {
            "line": {
             "colorbar": {
              "outlinewidth": 0,
              "ticks": ""
             }
            },
            "type": "parcoords"
           }
          ],
          "pie": [
           {
            "automargin": true,
            "type": "pie"
           }
          ],
          "scatter": [
           {
            "fillpattern": {
             "fillmode": "overlay",
             "size": 10,
             "solidity": 0.2
            },
            "type": "scatter"
           }
          ],
          "scatter3d": [
           {
            "line": {
             "colorbar": {
              "outlinewidth": 0,
              "ticks": ""
             }
            },
            "marker": {
             "colorbar": {
              "outlinewidth": 0,
              "ticks": ""
             }
            },
            "type": "scatter3d"
           }
          ],
          "scattercarpet": [
           {
            "marker": {
             "colorbar": {
              "outlinewidth": 0,
              "ticks": ""
             }
            },
            "type": "scattercarpet"
           }
          ],
          "scattergeo": [
           {
            "marker": {
             "colorbar": {
              "outlinewidth": 0,
              "ticks": ""
             }
            },
            "type": "scattergeo"
           }
          ],
          "scattergl": [
           {
            "marker": {
             "colorbar": {
              "outlinewidth": 0,
              "ticks": ""
             }
            },
            "type": "scattergl"
           }
          ],
          "scattermap": [
           {
            "marker": {
             "colorbar": {
              "outlinewidth": 0,
              "ticks": ""
             }
            },
            "type": "scattermap"
           }
          ],
          "scattermapbox": [
           {
            "marker": {
             "colorbar": {
              "outlinewidth": 0,
              "ticks": ""
             }
            },
            "type": "scattermapbox"
           }
          ],
          "scatterpolar": [
           {
            "marker": {
             "colorbar": {
              "outlinewidth": 0,
              "ticks": ""
             }
            },
            "type": "scatterpolar"
           }
          ],
          "scatterpolargl": [
           {
            "marker": {
             "colorbar": {
              "outlinewidth": 0,
              "ticks": ""
             }
            },
            "type": "scatterpolargl"
           }
          ],
          "scatterternary": [
           {
            "marker": {
             "colorbar": {
              "outlinewidth": 0,
              "ticks": ""
             }
            },
            "type": "scatterternary"
           }
          ],
          "surface": [
           {
            "colorbar": {
             "outlinewidth": 0,
             "ticks": ""
            },
            "colorscale": [
             [
              0,
              "#0d0887"
             ],
             [
              0.1111111111111111,
              "#46039f"
             ],
             [
              0.2222222222222222,
              "#7201a8"
             ],
             [
              0.3333333333333333,
              "#9c179e"
             ],
             [
              0.4444444444444444,
              "#bd3786"
             ],
             [
              0.5555555555555556,
              "#d8576b"
             ],
             [
              0.6666666666666666,
              "#ed7953"
             ],
             [
              0.7777777777777778,
              "#fb9f3a"
             ],
             [
              0.8888888888888888,
              "#fdca26"
             ],
             [
              1,
              "#f0f921"
             ]
            ],
            "type": "surface"
           }
          ],
          "table": [
           {
            "cells": {
             "fill": {
              "color": "#EBF0F8"
             },
             "line": {
              "color": "white"
             }
            },
            "header": {
             "fill": {
              "color": "#C8D4E3"
             },
             "line": {
              "color": "white"
             }
            },
            "type": "table"
           }
          ]
         },
         "layout": {
          "annotationdefaults": {
           "arrowcolor": "#2a3f5f",
           "arrowhead": 0,
           "arrowwidth": 1
          },
          "autotypenumbers": "strict",
          "coloraxis": {
           "colorbar": {
            "outlinewidth": 0,
            "ticks": ""
           }
          },
          "colorscale": {
           "diverging": [
            [
             0,
             "#8e0152"
            ],
            [
             0.1,
             "#c51b7d"
            ],
            [
             0.2,
             "#de77ae"
            ],
            [
             0.3,
             "#f1b6da"
            ],
            [
             0.4,
             "#fde0ef"
            ],
            [
             0.5,
             "#f7f7f7"
            ],
            [
             0.6,
             "#e6f5d0"
            ],
            [
             0.7,
             "#b8e186"
            ],
            [
             0.8,
             "#7fbc41"
            ],
            [
             0.9,
             "#4d9221"
            ],
            [
             1,
             "#276419"
            ]
           ],
           "sequential": [
            [
             0,
             "#0d0887"
            ],
            [
             0.1111111111111111,
             "#46039f"
            ],
            [
             0.2222222222222222,
             "#7201a8"
            ],
            [
             0.3333333333333333,
             "#9c179e"
            ],
            [
             0.4444444444444444,
             "#bd3786"
            ],
            [
             0.5555555555555556,
             "#d8576b"
            ],
            [
             0.6666666666666666,
             "#ed7953"
            ],
            [
             0.7777777777777778,
             "#fb9f3a"
            ],
            [
             0.8888888888888888,
             "#fdca26"
            ],
            [
             1,
             "#f0f921"
            ]
           ],
           "sequentialminus": [
            [
             0,
             "#0d0887"
            ],
            [
             0.1111111111111111,
             "#46039f"
            ],
            [
             0.2222222222222222,
             "#7201a8"
            ],
            [
             0.3333333333333333,
             "#9c179e"
            ],
            [
             0.4444444444444444,
             "#bd3786"
            ],
            [
             0.5555555555555556,
             "#d8576b"
            ],
            [
             0.6666666666666666,
             "#ed7953"
            ],
            [
             0.7777777777777778,
             "#fb9f3a"
            ],
            [
             0.8888888888888888,
             "#fdca26"
            ],
            [
             1,
             "#f0f921"
            ]
           ]
          },
          "colorway": [
           "#636efa",
           "#EF553B",
           "#00cc96",
           "#ab63fa",
           "#FFA15A",
           "#19d3f3",
           "#FF6692",
           "#B6E880",
           "#FF97FF",
           "#FECB52"
          ],
          "font": {
           "color": "#2a3f5f"
          },
          "geo": {
           "bgcolor": "white",
           "lakecolor": "white",
           "landcolor": "white",
           "showlakes": true,
           "showland": true,
           "subunitcolor": "#C8D4E3"
          },
          "hoverlabel": {
           "align": "left"
          },
          "hovermode": "closest",
          "mapbox": {
           "style": "light"
          },
          "paper_bgcolor": "white",
          "plot_bgcolor": "white",
          "polar": {
           "angularaxis": {
            "gridcolor": "#EBF0F8",
            "linecolor": "#EBF0F8",
            "ticks": ""
           },
           "bgcolor": "white",
           "radialaxis": {
            "gridcolor": "#EBF0F8",
            "linecolor": "#EBF0F8",
            "ticks": ""
           }
          },
          "scene": {
           "xaxis": {
            "backgroundcolor": "white",
            "gridcolor": "#DFE8F3",
            "gridwidth": 2,
            "linecolor": "#EBF0F8",
            "showbackground": true,
            "ticks": "",
            "zerolinecolor": "#EBF0F8"
           },
           "yaxis": {
            "backgroundcolor": "white",
            "gridcolor": "#DFE8F3",
            "gridwidth": 2,
            "linecolor": "#EBF0F8",
            "showbackground": true,
            "ticks": "",
            "zerolinecolor": "#EBF0F8"
           },
           "zaxis": {
            "backgroundcolor": "white",
            "gridcolor": "#DFE8F3",
            "gridwidth": 2,
            "linecolor": "#EBF0F8",
            "showbackground": true,
            "ticks": "",
            "zerolinecolor": "#EBF0F8"
           }
          },
          "shapedefaults": {
           "line": {
            "color": "#2a3f5f"
           }
          },
          "ternary": {
           "aaxis": {
            "gridcolor": "#DFE8F3",
            "linecolor": "#A2B1C6",
            "ticks": ""
           },
           "baxis": {
            "gridcolor": "#DFE8F3",
            "linecolor": "#A2B1C6",
            "ticks": ""
           },
           "bgcolor": "white",
           "caxis": {
            "gridcolor": "#DFE8F3",
            "linecolor": "#A2B1C6",
            "ticks": ""
           }
          },
          "title": {
           "x": 0.05
          },
          "xaxis": {
           "automargin": true,
           "gridcolor": "#EBF0F8",
           "linecolor": "#EBF0F8",
           "ticks": "",
           "title": {
            "standoff": 15
           },
           "zerolinecolor": "#EBF0F8",
           "zerolinewidth": 2
          },
          "yaxis": {
           "automargin": true,
           "gridcolor": "#EBF0F8",
           "linecolor": "#EBF0F8",
           "ticks": "",
           "title": {
            "standoff": 15
           },
           "zerolinecolor": "#EBF0F8",
           "zerolinewidth": 2
          }
         }
        },
        "title": {
         "font": {
          "size": 16
         },
         "text": "Heatmap interactive — Données physiques Replay Attack"
        },
        "width": 950,
        "xaxis": {
         "anchor": "y",
         "domain": [
          0,
          1
         ],
         "title": {
          "text": "mp_distance_x"
         }
        },
        "yaxis": {
         "anchor": "x",
         "domain": [
          0,
          1
         ],
         "title": {
          "text": "mp_distance_z"
         }
        }
       }
      }
     },
     "metadata": {},
     "output_type": "display_data"
    },
    {
     "ename": "ValueError",
     "evalue": "❌ Colonne manquante dans le DataFrame : mp_distance_x",
     "output_type": "error",
     "traceback": [
      "\u001b[31m---------------------------------------------------------------------------\u001b[39m",
      "\u001b[31mValueError\u001b[39m                                Traceback (most recent call last)",
      "\u001b[36mCell\u001b[39m\u001b[36m \u001b[39m\u001b[32mIn[32]\u001b[39m\u001b[32m, line 68\u001b[39m\n\u001b[32m     66\u001b[39m plot_distance_temperature_interactive(data_DoS_Physical, title=\u001b[33m\"\u001b[39m\u001b[33mHeatmap interactive — Données physiques DoS Attack\u001b[39m\u001b[33m\"\u001b[39m)    \n\u001b[32m     67\u001b[39m plot_distance_temperature_interactive(data_Replay_Physical, title=\u001b[33m\"\u001b[39m\u001b[33mHeatmap interactive — Données physiques Replay Attack\u001b[39m\u001b[33m\"\u001b[39m)    \n\u001b[32m---> \u001b[39m\u001b[32m68\u001b[39m \u001b[43mplot_distance_temperature_interactive\u001b[49m\u001b[43m(\u001b[49m\u001b[43mdata_EvilTwin_Physical\u001b[49m\u001b[43m,\u001b[49m\u001b[43m \u001b[49m\u001b[43mtitle\u001b[49m\u001b[43m=\u001b[49m\u001b[33;43m\"\u001b[39;49m\u001b[33;43mHeatmap interactive — Données physiques Evil Twin\u001b[39;49m\u001b[33;43m\"\u001b[39;49m\u001b[43m)\u001b[49m    \n\u001b[32m     69\u001b[39m plot_distance_temperature_interactive(data_FDI_Physical, title=\u001b[33m\"\u001b[39m\u001b[33mHeatmap interactive — Données physiques FDI\u001b[39m\u001b[33m\"\u001b[39m)\n",
      "\u001b[36mCell\u001b[39m\u001b[36m \u001b[39m\u001b[32mIn[32]\u001b[39m\u001b[32m, line 18\u001b[39m, in \u001b[36mplot_distance_temperature_interactive\u001b[39m\u001b[34m(df, title)\u001b[39m\n\u001b[32m     16\u001b[39m \u001b[38;5;28;01mfor\u001b[39;00m col \u001b[38;5;129;01min\u001b[39;00m required_cols:\n\u001b[32m     17\u001b[39m     \u001b[38;5;28;01mif\u001b[39;00m col \u001b[38;5;129;01mnot\u001b[39;00m \u001b[38;5;129;01min\u001b[39;00m df.columns:\n\u001b[32m---> \u001b[39m\u001b[32m18\u001b[39m         \u001b[38;5;28;01mraise\u001b[39;00m \u001b[38;5;167;01mValueError\u001b[39;00m(\u001b[33mf\u001b[39m\u001b[33m\"\u001b[39m\u001b[33m❌ Colonne manquante dans le DataFrame : \u001b[39m\u001b[38;5;132;01m{\u001b[39;00mcol\u001b[38;5;132;01m}\u001b[39;00m\u001b[33m\"\u001b[39m)\n\u001b[32m     20\u001b[39m \u001b[38;5;66;03m# === Heatmap de densité ===\u001b[39;00m\n\u001b[32m     21\u001b[39m fig = px.density_heatmap(\n\u001b[32m     22\u001b[39m     df,\n\u001b[32m     23\u001b[39m     x=\u001b[33m\"\u001b[39m\u001b[33mmp_distance_x\u001b[39m\u001b[33m\"\u001b[39m,\n\u001b[32m   (...)\u001b[39m\u001b[32m     34\u001b[39m     }\n\u001b[32m     35\u001b[39m )\n",
      "\u001b[31mValueError\u001b[39m: ❌ Colonne manquante dans le DataFrame : mp_distance_x"
     ]
    }
   ],
   "source": [
    "import plotly.graph_objects as go\n",
    "import plotly.express as px\n",
    "\n",
    "def plot_distance_temperature_interactive(df, title=\"Heatmap interactive — Données physiques\"):\n",
    "    \"\"\"\n",
    "    Trace une heatmap 2D interactive (mp_distance_x vs mp_distance_z)\n",
    "    avec la température comme intensité de couleur.\n",
    "\n",
    "    Paramètres :\n",
    "        df (pd.DataFrame): données déjà chargées\n",
    "        title (str): titre du graphique\n",
    "    \"\"\"\n",
    "\n",
    "    # Vérifier les colonnes nécessaires\n",
    "    required_cols = [\"mp_distance_x\", \"mp_distance_z\", \"temperature\"]\n",
    "    for col in required_cols:\n",
    "        if col not in df.columns:\n",
    "            raise ValueError(f\"❌ Colonne manquante dans le DataFrame : {col}\")\n",
    "\n",
    "    # === Heatmap de densité ===\n",
    "    fig = px.density_heatmap(\n",
    "        df,\n",
    "        x=\"mp_distance_x\",\n",
    "        y=\"mp_distance_z\",\n",
    "        z=\"temperature\",\n",
    "        nbinsx=100,\n",
    "        nbinsy=100,\n",
    "        color_continuous_scale=\"Plasma\",\n",
    "        title=title,\n",
    "        labels={\n",
    "            \"mp_distance_x\": \"mp_distance_x\",\n",
    "            \"mp_distance_z\": \"mp_distance_z\",\n",
    "            \"temperature\": \"Température\"\n",
    "        }\n",
    "    )\n",
    "\n",
    "    # === Ajouter les points réels ===\n",
    "    fig.add_trace(\n",
    "        go.Scatter(\n",
    "            x=df[\"mp_distance_x\"],\n",
    "            y=df[\"mp_distance_z\"],\n",
    "            mode=\"markers\",\n",
    "            marker=dict(\n",
    "                color=df[\"temperature\"],\n",
    "                colorscale=\"Plasma\",\n",
    "                size=5,\n",
    "                opacity=0.6,\n",
    "                colorbar=dict(title=\"Température\")\n",
    "            ),\n",
    "            name=\"Mesures réelles\"\n",
    "        )\n",
    "    )\n",
    "\n",
    "    # === Mise en forme ===\n",
    "    fig.update_layout(\n",
    "        xaxis_title=\"mp_distance_x\",\n",
    "        yaxis_title=\"mp_distance_z\",\n",
    "        title_font_size=16,\n",
    "        template=\"plotly_white\",  # clair ; tu peux mettre \"plotly_dark\" si tu préfères sombre\n",
    "        width=950,\n",
    "        height=750\n",
    "    )\n",
    "\n",
    "    fig.show()\n",
    "plot_distance_temperature_interactive(data_Begnin_Physical, title=\"Heatmap interactive — Données physiques bénignes\")\n",
    "plot_distance_temperature_interactive(data_DoS_Physical, title=\"Heatmap interactive — Données physiques DoS Attack\")    \n",
    "plot_distance_temperature_interactive(data_Replay_Physical, title=\"Heatmap interactive — Données physiques Replay Attack\")    \n",
    "# plot_distance_temperature_interactive(data_EvilTwin_Physical, title=\"Heatmap interactive — Données physiques Evil Twin\")    \n",
    "# plot_distance_temperature_interactive(data_FDI_Physical, title=\"Heatmap interactive — Données physiques FDI\")"
   ]
  }
 ],
 "metadata": {
  "kernelspec": {
   "display_name": "myenv",
   "language": "python",
   "name": "python3"
  },
  "language_info": {
   "codemirror_mode": {
    "name": "ipython",
    "version": 3
   },
   "file_extension": ".py",
   "mimetype": "text/x-python",
   "name": "python",
   "nbconvert_exporter": "python",
   "pygments_lexer": "ipython3",
   "version": "3.12.11"
  }
 },
 "nbformat": 4,
 "nbformat_minor": 5
}
