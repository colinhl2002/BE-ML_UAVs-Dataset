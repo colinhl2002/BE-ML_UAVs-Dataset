{
 "cells": [
  {
   "cell_type": "markdown",
   "id": "9632e0c3",
   "metadata": {},
   "source": [
    "<div style=\"font-size:22pt; line-height:25pt; font-weight:bold; text-align:center;\">BE - ML</div>"
   ]
  },
  {
   "cell_type": "markdown",
   "id": "82150020",
   "metadata": {},
   "source": [
    "# Introduction\n",
    "\n",
    "Le BE-ML consiste en l'analyse du dataset ..."
   ]
  }
 ],
 "metadata": {
  "language_info": {
   "name": "python"
  }
 },
 "nbformat": 4,
 "nbformat_minor": 5
}
